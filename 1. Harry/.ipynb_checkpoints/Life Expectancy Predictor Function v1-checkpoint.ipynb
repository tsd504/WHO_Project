{
 "cells": [
  {
   "cell_type": "markdown",
   "id": "a1ae26f9-b569-46ea-85ed-e6ba261b2dca",
   "metadata": {},
   "source": [
    "# Life Expectancy - Predictor Function"
   ]
  },
  {
   "cell_type": "markdown",
   "id": "5454a3b0-e65a-4fda-80b0-0ccd74f14930",
   "metadata": {},
   "source": [
    "#### File Setup (import libraries)"
   ]
  },
  {
   "cell_type": "code",
   "execution_count": 1,
   "id": "66b81cc1-bfe9-49c4-9a73-2f4880cf629c",
   "metadata": {},
   "outputs": [],
   "source": [
    "import numpy as np\n",
    "import seaborn as sns\n",
    "import matplotlib.pyplot as plt\n",
    "import pandas as pd"
   ]
  },
  {
   "cell_type": "markdown",
   "id": "3f00f305-1c56-442a-9e56-4bf59726e8d5",
   "metadata": {},
   "source": [
    "## Input Metadata"
   ]
  },
  {
   "cell_type": "markdown",
   "id": "b7615df6-ce41-40fc-870a-68a4929f5393",
   "metadata": {},
   "source": [
    "|Field|Description|\n",
    "|---:|:---|\n",
    "|Country|Country|\n",
    "|Year|Year|\n",
    "|Infant deaths|Number of Infant Deaths per 1000 population|\n",
    "|Under-five deaths|Number of under-five deaths per 1000 population|\n",
    "|Adult Mortality|Adult Mortality Rates of both sexes (probability of dying between 15 and 60 years per 1000 population)|\n",
    "|Alcohol Consumption|Alcohol, recorded per capita (15+) consumption (in litres of pure alcohol)|\n",
    "|Hepatitis B|Hepatitis B (HepB) immunization coverage among 1-year-olds (%)|\n",
    "|Measles|Measles - number of reported cases per 1000 population|\n",
    "|BMI|Average Body Mass Index of entire population|\n",
    "|Polio|Polio (Pol3) immunization coverage among 1-year-olds (%)|\n",
    "|Diphtheria|Diphtheria tetanus toxoid and pertussis (DTP3) immunization coverage among 1-year-olds (%)|\n",
    "|Incidents HIV|Deaths per 1 000 live births HIV/AIDS (0-4 years)|\n",
    "|GDP|Gross Domestic Product per capita (in USD)|\n",
    "|Population|Population of the country|\n",
    "|Thinness 10-19 years|Prevalence of thinness among children and adolescents for Age 10 to 19 (%)|\n",
    "|Thinness 5-9 years|Prevalence of thinness among children for Age 5 to 9 (%)|\n",
    "|Schooling|Number of years of Schooling (years)|\n",
    "|Economic Status|Developed or Developing status|"
   ]
  },
  {
   "cell_type": "markdown",
   "id": "c86ac275-526d-41e0-aec9-8610c5da5fd6",
   "metadata": {},
   "source": [
    "## Choice of Model"
   ]
  },
  {
   "cell_type": "code",
   "execution_count": null,
   "id": "f68dc496-4fc0-4cf2-9a38-c9a429e43029",
   "metadata": {},
   "outputs": [],
   "source": [
    "consent = input(\"Do you consent to using advanced population data, which may include protected information, for better accuracy? (Y/N)\")\n",
    "\n",
    "if consent == \"Y\":\n",
    "    print('Thank you, you have given consent for advanced population data.')\n",
    "elif consent == \"N\":\n",
    "    print('Thank you, you have NOT given consent - a minimalist model will be used which may be less accurate and robust.')\n",
    "else:\n",
    "    print('Please try again - you must enter Y (for yes) or N (for no).')\n",
    "    input(\"Do you consent to using advanced population data, which may include protected information, for better accuracy? (Y/N)\")"
   ]
  },
  {
   "cell_type": "markdown",
   "id": "7ce4b7cc-b6ef-4aec-bea8-141693a4f899",
   "metadata": {},
   "source": [
    "## Data Input"
   ]
  },
  {
   "cell_type": "code",
   "execution_count": null,
   "id": "837252d1-bb45-4b07-afd4-fbf1d1026ffc",
   "metadata": {},
   "outputs": [],
   "source": [
    "columns = ['Country', 'Region', 'Year', 'Infant_deaths', 'Under_five_deaths',\n",
    "'Adult_mortality', 'Alcohol_consumption', 'Hepatitis_B', 'Measles',\n",
    "'BMI', 'Polio', 'Diphtheria', 'Incidents_HIV', 'GDP_per_capita',\n",
    "'Population_mln', 'Thinness_ten_nineteen_years',\n",
    "'Thinness_five_nine_years', 'Schooling', 'Economy_status_Developed',\n",
    "'Economy_status_Developing', 'Life_expectancy']\n",
    "\n",
    "features = []\n",
    "\n",
    "for i in columns:\n",
    "    features.append(input(f\"Please enter the {i}:\"))"
   ]
  },
  {
   "cell_type": "code",
   "execution_count": null,
   "id": "4ae8372d-b188-4625-848b-e09bf117b3ec",
   "metadata": {},
   "outputs": [],
   "source": [
    "features_df = pd.DataFrame([features], columns=columns)\n",
    "\n",
    "features_df"
   ]
  },
  {
   "cell_type": "markdown",
   "id": "1af31b12-a567-4621-b115-f2601b589ac8",
   "metadata": {},
   "source": [
    "## Input Validation"
   ]
  },
  {
   "cell_type": "code",
   "execution_count": null,
   "id": "89c5d1c8-2bf6-4bf0-b258-2e6f46b4e394",
   "metadata": {},
   "outputs": [],
   "source": [
    "# column_dtypes = {\n",
    "#     'Country': 'object',\n",
    "#     'Region': 'object',\n",
    "#     'Year': 'int64',\n",
    "#     'Infant_deaths': 'int64',\n",
    "#     'Under_five_deaths': 'int64',\n",
    "#     'Adult_mortality': 'float64',\n",
    "#     'Alcohol_consumption': 'float64',\n",
    "#     'Hepatitis_B': 'float64',\n",
    "#     'Measles': 'int64',\n",
    "#     'BMI': 'float64',\n",
    "#     'Polio': 'float64',\n",
    "#     'Diphtheria': 'float64',\n",
    "#     'Incidents_HIV': 'float64',\n",
    "#     'GDP_per_capita': 'float64',\n",
    "#     'Population_mln': 'float64',\n",
    "#     'Thinness_ten_nineteen_years': 'float64',\n",
    "#     'Thinness_five_nine_years': 'float64',\n",
    "#     'Schooling': 'float64',\n",
    "#     'Economy_status_Developed': 'int64',     # dummy variable (0 or 1)\n",
    "#     'Economy_status_Developing': 'int64',    # dummy variable (0 or 1)\n",
    "#     'Life_expectancy': 'float64'\n",
    "# }"
   ]
  },
  {
   "cell_type": "code",
   "execution_count": null,
   "id": "72d33aab-a669-444e-a990-06ac5567ff24",
   "metadata": {},
   "outputs": [],
   "source": [
    "[#'const', \n",
    " 'Schooling', \n",
    " 'Adult_mortality', \n",
    " 'Under_five_deaths', \n",
    " 'Economy_status_Developing', \n",
    " 'Region_Central America and Caribbean', 'Region_South America', 'Region_Oceania', 'Region_European Union', 'Region_Rest of Europe', 'Region_North America', \n",
    " 'GDP_per_capita', 'log_GDP', \n",
    " 'Year', \n",
    " 'BMI', \n",
    " 'Incidents_HIV']\n"
   ]
  },
  {
   "cell_type": "markdown",
   "id": "ca8d4726-73bf-4bb3-bd6d-743b2e9449a7",
   "metadata": {},
   "source": [
    "## Inputting Regions"
   ]
  },
  {
   "cell_type": "code",
   "execution_count": null,
   "id": "b9a6b38b-b3e1-461c-9d44-04c0369676da",
   "metadata": {},
   "outputs": [],
   "source": [
    "## Initial chunk of code I wrote for this - which was quite long-winded \n",
    "\n",
    "\n",
    "# region_list = ['Middle East', 'European Union', 'Asia', 'South America',\n",
    "#        'Central America and Caribbean', 'Rest of Europe', 'Africa',\n",
    "#        'Oceania', 'North America']\n",
    "\n",
    "# region = input(f\"Please enter your Region from the list {region_list}:\")\n",
    "\n",
    "# def region_assign(text):\n",
    "\n",
    "#     stripped_region = region.strip().lower()\n",
    "\n",
    "#     if stripped_region == \"central america and caribbean\":\n",
    "#         df['Region_Central America and Caribbean'] = 1\n",
    "#     elif stripped_region == \"south america\":\n",
    "#         df['Region_South America'] = 1\n",
    "#     elif stripped_region == \"oceania\":\n",
    "#         df['Region_Oceania'] = 1\n",
    "#     elif stripped_region == \"european union\":\n",
    "#         df['Region_European Union'] = 1\n",
    "#     elif stripped_region == \"rest of europe\":\n",
    "#         df['Region_Rest of Europe'] = 1\n",
    "#     elif stripped_region == \"north america\":\n",
    "#         df['Region_North America'] = 1\n",
    "#     elif stripped_region in ['middle east', 'asia', 'africa']:\n",
    "#         continue\n",
    "#     else:\n",
    "#         print(\"Not a valid region: please try to enter again...\")\n",
    "\n",
    "#     return\n"
   ]
  },
  {
   "cell_type": "markdown",
   "id": "84ebba01-7e7c-4f63-ba85-6f6a09749f03",
   "metadata": {},
   "source": [
    "## Proposed Input Loop"
   ]
  },
  {
   "cell_type": "code",
   "execution_count": null,
   "id": "a9fa55b0-e1b6-40c8-80fe-1cc036f9df9c",
   "metadata": {},
   "outputs": [],
   "source": [
    "# Define required features\n",
    "model_columns = [\n",
    "    'const', 'Year', 'Under_five_deaths', 'Adult_mortality', 'BMI',\n",
    "    'Incidents_HIV', 'GDP_per_capita', 'Schooling', 'Economy_status_Developing',\n",
    "    'Region_Central America and Caribbean', 'Region_European Union',\n",
    "    'Region_North America', 'Region_Oceania', 'Region_Rest of Europe',\n",
    "    'Region_South America', 'log_GDP'\n",
    "]\n",
    "\n",
    "region_columns = [\n",
    "    'Region_Central America and Caribbean', 'Region_European Union',\n",
    "    'Region_North America', 'Region_Oceania', 'Region_Rest of Europe',\n",
    "    'Region_South America'\n",
    "]\n",
    "\n",
    "# Base input features (not including computed fields or one-hot columns)\n",
    "input_features = [\n",
    "    'Region', 'Year', 'Under_five_deaths', 'Adult_mortality', 'BMI',\n",
    "    'Incidents_HIV', 'GDP_per_capita', 'Schooling', 'Economy_status_Developing'\n",
    "]\n",
    "\n",
    "# Dictionary to collect inputs\n",
    "row_data = {col: 0 for col in model_columns}\n",
    "row_data['const'] = 1  # always set const\n",
    "\n",
    "# Input loop\n",
    "print(\"Please enter the following values:\\n\")\n",
    "\n",
    "for feature in input_features:\n",
    "    val = input(f\"{feature}: \").strip()\n",
    "\n",
    "    if feature == 'Region':\n",
    "        region_col = f\"Region_{val}\"\n",
    "        if region_col in region_columns:\n",
    "            row_data[region_col] = 1\n",
    "        else:\n",
    "            print(f\"⚠️ Region '{val}' not recognized, skipping region dummies.\")\n",
    "    else:\n",
    "        # Convert numerical values safely\n",
    "        try:\n",
    "            row_data[feature] = float(val)\n",
    "        except ValueError:\n",
    "            print(f\"⚠️ Invalid number for {feature}, using 0.\")\n",
    "\n",
    "# Compute log_GDP if possible\n",
    "if row_data['GDP_per_capita'] > 0:\n",
    "    row_data['log_GDP'] = np.log(row_data['GDP_per_capita'])\n",
    "else:\n",
    "    print(\"⚠️ GDP_per_capita must be > 0 to compute log_GDP. Setting log_GDP = 0.\")\n",
    "    row_data['log_GDP'] = 0\n",
    "\n",
    "# Convert to DataFrame\n",
    "user_df = pd.DataFrame([row_data])"
   ]
  },
  {
   "cell_type": "code",
   "execution_count": null,
   "id": "7d044695-e78c-4876-85b7-c5da65280098",
   "metadata": {},
   "outputs": [],
   "source": []
  }
 ],
 "metadata": {
  "kernelspec": {
   "display_name": "Python [conda env:base] *",
   "language": "python",
   "name": "conda-base-py"
  },
  "language_info": {
   "codemirror_mode": {
    "name": "ipython",
    "version": 3
   },
   "file_extension": ".py",
   "mimetype": "text/x-python",
   "name": "python",
   "nbconvert_exporter": "python",
   "pygments_lexer": "ipython3",
   "version": "3.12.7"
  }
 },
 "nbformat": 4,
 "nbformat_minor": 5
}
