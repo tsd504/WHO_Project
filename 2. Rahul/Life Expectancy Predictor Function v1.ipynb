{
 "cells": [
  {
   "cell_type": "markdown",
   "id": "a1ae26f9-b569-46ea-85ed-e6ba261b2dca",
   "metadata": {},
   "source": [
    "# Life Expectancy - Predictor Function"
   ]
  },
  {
   "cell_type": "markdown",
   "id": "5454a3b0-e65a-4fda-80b0-0ccd74f14930",
   "metadata": {},
   "source": [
    "#### File Setup (import libraries)"
   ]
  },
  {
   "cell_type": "code",
   "execution_count": 1,
   "id": "66b81cc1-bfe9-49c4-9a73-2f4880cf629c",
   "metadata": {},
   "outputs": [],
   "source": [
    "import numpy as np\n",
    "import seaborn as sns\n",
    "import matplotlib.pyplot as plt\n",
    "import pandas as pd"
   ]
  },
  {
   "cell_type": "markdown",
   "id": "3f00f305-1c56-442a-9e56-4bf59726e8d5",
   "metadata": {},
   "source": [
    "## Input Metadata"
   ]
  },
  {
   "cell_type": "markdown",
   "id": "b7615df6-ce41-40fc-870a-68a4929f5393",
   "metadata": {},
   "source": [
    "|Field|Description|\n",
    "|---:|:---|\n",
    "|Country|Country|\n",
    "|Year|Year|\n",
    "|Infant deaths|Number of Infant Deaths per 1000 population|\n",
    "|Under-five deaths|Number of under-five deaths per 1000 population|\n",
    "|Adult Mortality|Adult Mortality Rates of both sexes (probability of dying between 15 and 60 years per 1000 population)|\n",
    "|Alcohol Consumption|Alcohol, recorded per capita (15+) consumption (in litres of pure alcohol)|\n",
    "|Hepatitis B|Hepatitis B (HepB) immunization coverage among 1-year-olds (%)|\n",
    "|Measles|Measles - number of reported cases per 1000 population|\n",
    "|BMI|Average Body Mass Index of entire population|\n",
    "|Polio|Polio (Pol3) immunization coverage among 1-year-olds (%)|\n",
    "|Diphtheria|Diphtheria tetanus toxoid and pertussis (DTP3) immunization coverage among 1-year-olds (%)|\n",
    "|Incidents HIV|Deaths per 1 000 live births HIV/AIDS (0-4 years)|\n",
    "|GDP|Gross Domestic Product per capita (in USD)|\n",
    "|Population|Population of the country|\n",
    "|Thinness 10-19 years|Prevalence of thinness among children and adolescents for Age 10 to 19 (%)|\n",
    "|Thinness 5-9 years|Prevalence of thinness among children for Age 5 to 9(%)|\n",
    "|Schooling|Number of years of Schooling(years)|\n",
    "|Economic Status|Developed or Developing status|"
   ]
  },
  {
   "cell_type": "markdown",
   "id": "7ce4b7cc-b6ef-4aec-bea8-141693a4f899",
   "metadata": {},
   "source": [
    "## Data Input"
   ]
  },
  {
   "cell_type": "code",
   "execution_count": 22,
   "id": "837252d1-bb45-4b07-afd4-fbf1d1026ffc",
   "metadata": {},
   "outputs": [
    {
     "name": "stdin",
     "output_type": "stream",
     "text": [
      "Please enter the Region: 32\n",
      "Please enter the Year: 23\n"
     ]
    },
    {
     "ename": "Exception",
     "evalue": "('The inputted type is ', <class 'str'>, 'it should be ', 'int')",
     "output_type": "error",
     "traceback": [
      "\u001b[1;31m---------------------------------------------------------------------------\u001b[0m",
      "\u001b[1;31mException\u001b[0m                                 Traceback (most recent call last)",
      "Cell \u001b[1;32mIn[22], line 29\u001b[0m\n\u001b[0;32m     27\u001b[0m     features\u001b[38;5;241m.\u001b[39mappend(inp)\n\u001b[0;32m     28\u001b[0m \u001b[38;5;28;01melse\u001b[39;00m:\n\u001b[1;32m---> 29\u001b[0m     \u001b[38;5;28;01mraise\u001b[39;00m \u001b[38;5;167;01mException\u001b[39;00m(\u001b[38;5;124m'\u001b[39m\u001b[38;5;124mThe inputted type is \u001b[39m\u001b[38;5;124m'\u001b[39m, \u001b[38;5;28mtype\u001b[39m(inp) , \u001b[38;5;124m'\u001b[39m\u001b[38;5;124mit should be \u001b[39m\u001b[38;5;124m'\u001b[39m, value)\n",
      "\u001b[1;31mException\u001b[0m: ('The inputted type is ', <class 'str'>, 'it should be ', 'int')"
     ]
    }
   ],
   "source": [
    "columns = {\n",
    "    'Region': 'object',\n",
    "    'Year': 'int',\n",
    "    'Under_five_deaths': 'int',\n",
    "    'Adult_mortality': 'float',\n",
    "    'BMI': 'float',\n",
    "    'Incidents_HIV': 'float',\n",
    "    'GDP_per_capita': 'float',\n",
    "    'Schooling': 'float',\n",
    "    'Economy_status_Developing': 'int'  # dummy variable (0 or 1)\n",
    "}\n",
    "\n",
    "features = []\n",
    "\n",
    "for key, value in columns.items():\n",
    "    inp = input(f\"Please enter the {key}:\")\n",
    "\n",
    "    try:\n",
    "        if inp.isdigit():\n",
    "            int(inp)\n",
    "         else:\n",
    "            float(inp)\n",
    "    except ValueError:\n",
    "        pass\n",
    "        \n",
    "    if isinstance(inp, eval(value)):\n",
    "        features.append(inp)\n",
    "    else:\n",
    "        raise Exception('The inputted type is ', type(inp) , 'it should be ', value)"
   ]
  },
  {
   "cell_type": "code",
   "execution_count": 21,
   "id": "b2476585-1b93-4e8d-9d1f-1a0a79a6a8ad",
   "metadata": {},
   "outputs": [
    {
     "data": {
      "text/plain": [
       "True"
      ]
     },
     "execution_count": 21,
     "metadata": {},
     "output_type": "execute_result"
    }
   ],
   "source": [
    "a = '223'\n",
    "a.isdigit()\n"
   ]
  },
  {
   "cell_type": "code",
   "execution_count": null,
   "id": "4ae8372d-b188-4625-848b-e09bf117b3ec",
   "metadata": {},
   "outputs": [],
   "source": [
    "features_df = pd.DataFrame([features], columns=columns)\n",
    "\n",
    "features_df"
   ]
  }
 ],
 "metadata": {
  "kernelspec": {
   "display_name": "Python [conda env:base] *",
   "language": "python",
   "name": "conda-base-py"
  },
  "language_info": {
   "codemirror_mode": {
    "name": "ipython",
    "version": 3
   },
   "file_extension": ".py",
   "mimetype": "text/x-python",
   "name": "python",
   "nbconvert_exporter": "python",
   "pygments_lexer": "ipython3",
   "version": "3.12.7"
  }
 },
 "nbformat": 4,
 "nbformat_minor": 5
}
