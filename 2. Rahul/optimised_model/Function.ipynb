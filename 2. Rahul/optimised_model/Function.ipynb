{
 "cells": [
  {
   "cell_type": "code",
   "execution_count": 32,
   "id": "8eae361e-3c47-4515-a8a0-e8ef8bea0527",
   "metadata": {},
   "outputs": [],
   "source": [
    "import numpy as np\n",
    "import seaborn as sns\n",
    "import matplotlib.pyplot as plt\n",
    "import pandas as pd\n",
    "import joblib\n",
    "\n",
    "from sklearn.preprocessing import StandardScaler"
   ]
  },
  {
   "cell_type": "code",
   "execution_count": 40,
   "id": "33db7195-c0a3-4548-a146-05c30a3d4fda",
   "metadata": {},
   "outputs": [
    {
     "name": "stdout",
     "output_type": "stream",
     "text": [
      "Please enter the following values:\n",
      "\n"
     ]
    },
    {
     "name": "stdin",
     "output_type": "stream",
     "text": [
      "Region:  European Union\n",
      "Year:  2015\n",
      "Under_five_deaths:  3.3\n",
      "Adult_mortality:  57.9025\n",
      "BMI:  26\n",
      "Incidents_HIV:  0.09\n",
      "GDP_per_capita:  25742\n",
      "Schooling:  9.7\n",
      "Economy_status_Developing:  0\n"
     ]
    }
   ],
   "source": [
    "# Define required features\n",
    "model_columns = [\n",
    "    'const', 'Year', 'Under_five_deaths', 'Adult_mortality', 'BMI',\n",
    "    'Incidents_HIV', 'GDP_per_capita', 'Schooling', 'Economy_status_Developing',\n",
    "    'Region_Central America and Caribbean', 'Region_European Union',\n",
    "    'Region_North America', 'Region_Oceania', 'Region_Rest of Europe',\n",
    "    'Region_South America', 'log_GDP'\n",
    "]\n",
    "\n",
    "region_columns = [\n",
    "    'Region_Central America and Caribbean', 'Region_European Union',\n",
    "    'Region_North America', 'Region_Oceania', 'Region_Rest of Europe',\n",
    "    'Region_South America'\n",
    "]\n",
    "\n",
    "# Base input features (not including computed fields or one-hot columns)\n",
    "input_features = [\n",
    "    'Region', 'Year', 'Under_five_deaths', 'Adult_mortality', 'BMI',\n",
    "    'Incidents_HIV', 'GDP_per_capita', 'Schooling', 'Economy_status_Developing'\n",
    "]\n",
    "\n",
    "# Dictionary to collect inputs\n",
    "row_data = {col: 0 for col in model_columns}\n",
    "row_data['const'] = 1  # always set const\n",
    "\n",
    "# Input loop\n",
    "print(\"Please enter the following values:\\n\")\n",
    "\n",
    "for feature in input_features:\n",
    "    val = input(f\"{feature}: \").strip()\n",
    "\n",
    "    if feature == 'Region':\n",
    "        region_col = f\"Region_{val}\"\n",
    "        if region_col in region_columns:\n",
    "            row_data[region_col] = 1\n",
    "        else:\n",
    "            print(f\"⚠️ Region '{val}' not recognized, skipping region dummies.\")\n",
    "    else:\n",
    "        # Convert numerical values safely\n",
    "        try:\n",
    "            row_data[feature] = float(val)\n",
    "        except ValueError:\n",
    "            print(f\"⚠️ Invalid number for {feature}, using 0.\")\n",
    "\n",
    "# Compute log_GDP if possible\n",
    "if row_data['GDP_per_capita'] > 0:\n",
    "    row_data['log_GDP'] = np.log(row_data['GDP_per_capita'])\n",
    "else:\n",
    "    print(\"⚠️ GDP_per_capita must be > 0 to compute log_GDP. Setting log_GDP = 0.\")\n",
    "    row_data['log_GDP'] = 0\n",
    "\n",
    "# Convert to DataFrame\n",
    "user_df = pd.DataFrame([row_data])"
   ]
  },
  {
   "cell_type": "code",
   "execution_count": 41,
   "id": "37109c40-2b30-41ab-9bcd-48914b152501",
   "metadata": {},
   "outputs": [],
   "source": [
    "scaler = joblib.load('scaler.pkl')\n",
    "\n",
    "scale_cols = ['Schooling', 'Adult_mortality', 'Under_five_deaths', 'GDP_per_capita', 'Year', 'log_GDP', 'BMI', 'Incidents_HIV']\n",
    "\n",
    "def feature_eng(df, scaler, scale_cols):\n",
    "    df = df.copy()\n",
    "    df[scale_cols] = scaler.transform(df[scale_cols])\n",
    "    return df"
   ]
  },
  {
   "cell_type": "code",
   "execution_count": 42,
   "id": "c3173b2d-cf74-4b24-9070-373783fed478",
   "metadata": {},
   "outputs": [],
   "source": [
    "test = feature_eng(user_df, scaler, scale_cols)"
   ]
  },
  {
   "cell_type": "code",
   "execution_count": 43,
   "id": "7100ca8a-9dc4-46a2-b7dd-aeb29f8b9e5e",
   "metadata": {},
   "outputs": [],
   "source": [
    "model = joblib.load('model.pkl')"
   ]
  },
  {
   "cell_type": "code",
   "execution_count": 44,
   "id": "400abada-61d3-40b2-bc70-12c48bef8f37",
   "metadata": {},
   "outputs": [
    {
     "data": {
      "text/plain": [
       "0    80.569886\n",
       "dtype: float64"
      ]
     },
     "execution_count": 44,
     "metadata": {},
     "output_type": "execute_result"
    }
   ],
   "source": [
    "model.predict(test)"
   ]
  }
 ],
 "metadata": {
  "kernelspec": {
   "display_name": "Python [conda env:base] *",
   "language": "python",
   "name": "conda-base-py"
  },
  "language_info": {
   "codemirror_mode": {
    "name": "ipython",
    "version": 3
   },
   "file_extension": ".py",
   "mimetype": "text/x-python",
   "name": "python",
   "nbconvert_exporter": "python",
   "pygments_lexer": "ipython3",
   "version": "3.12.7"
  }
 },
 "nbformat": 4,
 "nbformat_minor": 5
}
