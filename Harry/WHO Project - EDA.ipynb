{
 "cells": [
  {
   "cell_type": "markdown",
   "id": "b912462f-c73c-4dde-b426-3d7b74526104",
   "metadata": {},
   "source": [
    "# WHO Project - Mortality MetriX"
   ]
  },
  {
   "cell_type": "markdown",
   "id": "d2b990c8-a6f2-47d2-b930-ae54b61629ea",
   "metadata": {},
   "source": [
    "## Initial EDA"
   ]
  },
  {
   "cell_type": "code",
   "execution_count": 1,
   "id": "b29f0668-d641-4ec0-b01c-97d45a751127",
   "metadata": {},
   "outputs": [],
   "source": [
    "import numpy as np\n",
    "import seaborn as sns\n",
    "import matplotlib.pyplot as plt\n",
    "import pandas as pd"
   ]
  },
  {
   "cell_type": "code",
   "execution_count": 2,
   "id": "47e4f3d4-58dd-4739-b18d-ab0f990bea38",
   "metadata": {},
   "outputs": [],
   "source": [
    "df = pd.read_csv(\"Life Expectancy Data.csv\")"
   ]
  },
  {
   "cell_type": "code",
   "execution_count": 3,
   "id": "e63cdccc-3167-4b71-a89b-966744654f53",
   "metadata": {},
   "outputs": [
    {
     "data": {
      "text/html": [
       "<div>\n",
       "<style scoped>\n",
       "    .dataframe tbody tr th:only-of-type {\n",
       "        vertical-align: middle;\n",
       "    }\n",
       "\n",
       "    .dataframe tbody tr th {\n",
       "        vertical-align: top;\n",
       "    }\n",
       "\n",
       "    .dataframe thead th {\n",
       "        text-align: right;\n",
       "    }\n",
       "</style>\n",
       "<table border=\"1\" class=\"dataframe\">\n",
       "  <thead>\n",
       "    <tr style=\"text-align: right;\">\n",
       "      <th></th>\n",
       "      <th>Country</th>\n",
       "      <th>Region</th>\n",
       "      <th>Year</th>\n",
       "      <th>Infant_deaths</th>\n",
       "      <th>Under_five_deaths</th>\n",
       "      <th>Adult_mortality</th>\n",
       "      <th>Alcohol_consumption</th>\n",
       "      <th>Hepatitis_B</th>\n",
       "      <th>Measles</th>\n",
       "      <th>BMI</th>\n",
       "      <th>Polio</th>\n",
       "      <th>Diphtheria</th>\n",
       "      <th>Incidents_HIV</th>\n",
       "      <th>GDP_per_capita</th>\n",
       "      <th>Population_mln</th>\n",
       "      <th>Thinness_ten_nineteen_years</th>\n",
       "      <th>Thinness_five_nine_years</th>\n",
       "      <th>Schooling</th>\n",
       "      <th>Economy_status_Developed</th>\n",
       "      <th>Economy_status_Developing</th>\n",
       "      <th>Life_expectancy</th>\n",
       "    </tr>\n",
       "  </thead>\n",
       "  <tbody>\n",
       "    <tr>\n",
       "      <th>0</th>\n",
       "      <td>Turkiye</td>\n",
       "      <td>Middle East</td>\n",
       "      <td>2015</td>\n",
       "      <td>11.1</td>\n",
       "      <td>13.0</td>\n",
       "      <td>105.8240</td>\n",
       "      <td>1.32</td>\n",
       "      <td>97</td>\n",
       "      <td>65</td>\n",
       "      <td>27.8</td>\n",
       "      <td>97</td>\n",
       "      <td>97</td>\n",
       "      <td>0.08</td>\n",
       "      <td>11006</td>\n",
       "      <td>78.53</td>\n",
       "      <td>4.9</td>\n",
       "      <td>4.8</td>\n",
       "      <td>7.8</td>\n",
       "      <td>0</td>\n",
       "      <td>1</td>\n",
       "      <td>76.5</td>\n",
       "    </tr>\n",
       "    <tr>\n",
       "      <th>1</th>\n",
       "      <td>Spain</td>\n",
       "      <td>European Union</td>\n",
       "      <td>2015</td>\n",
       "      <td>2.7</td>\n",
       "      <td>3.3</td>\n",
       "      <td>57.9025</td>\n",
       "      <td>10.35</td>\n",
       "      <td>97</td>\n",
       "      <td>94</td>\n",
       "      <td>26.0</td>\n",
       "      <td>97</td>\n",
       "      <td>97</td>\n",
       "      <td>0.09</td>\n",
       "      <td>25742</td>\n",
       "      <td>46.44</td>\n",
       "      <td>0.6</td>\n",
       "      <td>0.5</td>\n",
       "      <td>9.7</td>\n",
       "      <td>1</td>\n",
       "      <td>0</td>\n",
       "      <td>82.8</td>\n",
       "    </tr>\n",
       "    <tr>\n",
       "      <th>2</th>\n",
       "      <td>India</td>\n",
       "      <td>Asia</td>\n",
       "      <td>2007</td>\n",
       "      <td>51.5</td>\n",
       "      <td>67.9</td>\n",
       "      <td>201.0765</td>\n",
       "      <td>1.57</td>\n",
       "      <td>60</td>\n",
       "      <td>35</td>\n",
       "      <td>21.2</td>\n",
       "      <td>67</td>\n",
       "      <td>64</td>\n",
       "      <td>0.13</td>\n",
       "      <td>1076</td>\n",
       "      <td>1183.21</td>\n",
       "      <td>27.1</td>\n",
       "      <td>28.0</td>\n",
       "      <td>5.0</td>\n",
       "      <td>0</td>\n",
       "      <td>1</td>\n",
       "      <td>65.4</td>\n",
       "    </tr>\n",
       "    <tr>\n",
       "      <th>3</th>\n",
       "      <td>Guyana</td>\n",
       "      <td>South America</td>\n",
       "      <td>2006</td>\n",
       "      <td>32.8</td>\n",
       "      <td>40.5</td>\n",
       "      <td>222.1965</td>\n",
       "      <td>5.68</td>\n",
       "      <td>93</td>\n",
       "      <td>74</td>\n",
       "      <td>25.3</td>\n",
       "      <td>92</td>\n",
       "      <td>93</td>\n",
       "      <td>0.79</td>\n",
       "      <td>4146</td>\n",
       "      <td>0.75</td>\n",
       "      <td>5.7</td>\n",
       "      <td>5.5</td>\n",
       "      <td>7.9</td>\n",
       "      <td>0</td>\n",
       "      <td>1</td>\n",
       "      <td>67.0</td>\n",
       "    </tr>\n",
       "    <tr>\n",
       "      <th>4</th>\n",
       "      <td>Israel</td>\n",
       "      <td>Middle East</td>\n",
       "      <td>2012</td>\n",
       "      <td>3.4</td>\n",
       "      <td>4.3</td>\n",
       "      <td>57.9510</td>\n",
       "      <td>2.89</td>\n",
       "      <td>97</td>\n",
       "      <td>89</td>\n",
       "      <td>27.0</td>\n",
       "      <td>94</td>\n",
       "      <td>94</td>\n",
       "      <td>0.08</td>\n",
       "      <td>33995</td>\n",
       "      <td>7.91</td>\n",
       "      <td>1.2</td>\n",
       "      <td>1.1</td>\n",
       "      <td>12.8</td>\n",
       "      <td>1</td>\n",
       "      <td>0</td>\n",
       "      <td>81.7</td>\n",
       "    </tr>\n",
       "  </tbody>\n",
       "</table>\n",
       "</div>"
      ],
      "text/plain": [
       "   Country          Region  Year  Infant_deaths  Under_five_deaths  \\\n",
       "0  Turkiye     Middle East  2015           11.1               13.0   \n",
       "1    Spain  European Union  2015            2.7                3.3   \n",
       "2    India            Asia  2007           51.5               67.9   \n",
       "3   Guyana   South America  2006           32.8               40.5   \n",
       "4   Israel     Middle East  2012            3.4                4.3   \n",
       "\n",
       "   Adult_mortality  Alcohol_consumption  Hepatitis_B  Measles   BMI  Polio  \\\n",
       "0         105.8240                 1.32           97       65  27.8     97   \n",
       "1          57.9025                10.35           97       94  26.0     97   \n",
       "2         201.0765                 1.57           60       35  21.2     67   \n",
       "3         222.1965                 5.68           93       74  25.3     92   \n",
       "4          57.9510                 2.89           97       89  27.0     94   \n",
       "\n",
       "   Diphtheria  Incidents_HIV  GDP_per_capita  Population_mln  \\\n",
       "0          97           0.08           11006           78.53   \n",
       "1          97           0.09           25742           46.44   \n",
       "2          64           0.13            1076         1183.21   \n",
       "3          93           0.79            4146            0.75   \n",
       "4          94           0.08           33995            7.91   \n",
       "\n",
       "   Thinness_ten_nineteen_years  Thinness_five_nine_years  Schooling  \\\n",
       "0                          4.9                       4.8        7.8   \n",
       "1                          0.6                       0.5        9.7   \n",
       "2                         27.1                      28.0        5.0   \n",
       "3                          5.7                       5.5        7.9   \n",
       "4                          1.2                       1.1       12.8   \n",
       "\n",
       "   Economy_status_Developed  Economy_status_Developing  Life_expectancy  \n",
       "0                         0                          1             76.5  \n",
       "1                         1                          0             82.8  \n",
       "2                         0                          1             65.4  \n",
       "3                         0                          1             67.0  \n",
       "4                         1                          0             81.7  "
      ]
     },
     "execution_count": 3,
     "metadata": {},
     "output_type": "execute_result"
    }
   ],
   "source": [
    "pd.set_option('display.max_columns', None)\n",
    "df.head()"
   ]
  },
  {
   "cell_type": "code",
   "execution_count": 4,
   "id": "78ad6af7-4e5e-4ddf-8204-a9bc8b024ef0",
   "metadata": {},
   "outputs": [
    {
     "data": {
      "text/plain": [
       "Index(['Country', 'Region', 'Year', 'Infant_deaths', 'Under_five_deaths',\n",
       "       'Adult_mortality', 'Alcohol_consumption', 'Hepatitis_B', 'Measles',\n",
       "       'BMI', 'Polio', 'Diphtheria', 'Incidents_HIV', 'GDP_per_capita',\n",
       "       'Population_mln', 'Thinness_ten_nineteen_years',\n",
       "       'Thinness_five_nine_years', 'Schooling', 'Economy_status_Developed',\n",
       "       'Economy_status_Developing', 'Life_expectancy'],\n",
       "      dtype='object')"
      ]
     },
     "execution_count": 4,
     "metadata": {},
     "output_type": "execute_result"
    }
   ],
   "source": [
    "df.columns"
   ]
  },
  {
   "cell_type": "code",
   "execution_count": null,
   "id": "1f6b82c2-d546-4779-a1cf-7ac45b887db8",
   "metadata": {},
   "outputs": [],
   "source": [
    "df.shape"
   ]
  },
  {
   "cell_type": "code",
   "execution_count": null,
   "id": "b8e14433-4b4e-448c-ba69-a9dacb69a921",
   "metadata": {},
   "outputs": [],
   "source": [
    "df.isnull().sum()"
   ]
  },
  {
   "cell_type": "code",
   "execution_count": null,
   "id": "3471594d-6b48-49be-9ee2-f4a5636c4ed9",
   "metadata": {},
   "outputs": [],
   "source": [
    "df.Country.value_counts()"
   ]
  },
  {
   "cell_type": "code",
   "execution_count": null,
   "id": "473a7b0a-7a66-4b57-a013-0ef91a2e333c",
   "metadata": {},
   "outputs": [],
   "source": [
    "df.dtypes"
   ]
  },
  {
   "cell_type": "code",
   "execution_count": null,
   "id": "7e6f47a8-9f11-425f-8bba-ed568828194b",
   "metadata": {},
   "outputs": [],
   "source": [
    "df['Region'].unique()"
   ]
  },
  {
   "cell_type": "code",
   "execution_count": 25,
   "id": "646cdf5e-5504-4ae2-a6b1-26520aad49e5",
   "metadata": {},
   "outputs": [
    {
     "name": "stdout",
     "text": [
      "min: 49.384, max: 719.3605\n"
     ]
    }
   ],
   "source": [
    "print(f'min: {df['Adult_mortality'].min()}, max: {df['Adult_mortality'].max()}')"
   ]
  },
  {
   "cell_type": "code",
   "execution_count": 29,
   "id": "57265239-2945-4e18-a214-f72d296f4f5b",
   "metadata": {},
   "outputs": [
    {
     "name": "stdout",
     "output_type": "stream",
     "text": [
      "min: 2.3, max: 224.9\n"
     ]
    }
   ],
   "source": [
    "print(f'min: {df['Under_five_deaths'].min()}, max: {df['Under_five_deaths'].max()}')"
   ]
  },
  {
   "cell_type": "code",
   "execution_count": 26,
   "id": "90ccbd79-e83c-44ed-982f-51829a66f9da",
   "metadata": {},
   "outputs": [
    {
     "name": "stdout",
     "output_type": "stream",
     "text": [
      "min: 19.8, max: 32.1\n"
     ]
    }
   ],
   "source": [
    "print(f'min: {df['BMI'].min()}, max: {df['BMI'].max()}')"
   ]
  },
  {
   "cell_type": "code",
   "execution_count": 27,
   "id": "db0f6582-02e9-4578-909f-c7c5917555e7",
   "metadata": {},
   "outputs": [
    {
     "name": "stdout",
     "output_type": "stream",
     "text": [
      "min: 148, max: 112418\n"
     ]
    }
   ],
   "source": [
    "print(f'min: {df['GDP_per_capita'].min()}, max: {df['GDP_per_capita'].max()}')"
   ]
  },
  {
   "cell_type": "code",
   "execution_count": 28,
   "id": "5811a589-9912-491c-b7d4-d2ddaad005d5",
   "metadata": {},
   "outputs": [
    {
     "name": "stdout",
     "output_type": "stream",
     "text": [
      "min: 1.1, max: 14.1\n"
     ]
    }
   ],
   "source": [
    "print(f'min: {df['Schooling'].min()}, max: {df['Schooling'].max()}')"
   ]
  },
  {
   "cell_type": "code",
   "execution_count": 35,
   "id": "f4de2791-a3f2-48e8-95d6-72103d7cf3e8",
   "metadata": {},
   "outputs": [
    {
     "data": {
      "text/html": [
       "<div>\n",
       "<style scoped>\n",
       "    .dataframe tbody tr th:only-of-type {\n",
       "        vertical-align: middle;\n",
       "    }\n",
       "\n",
       "    .dataframe tbody tr th {\n",
       "        vertical-align: top;\n",
       "    }\n",
       "\n",
       "    .dataframe thead th {\n",
       "        text-align: right;\n",
       "    }\n",
       "</style>\n",
       "<table border=\"1\" class=\"dataframe\">\n",
       "  <thead>\n",
       "    <tr style=\"text-align: right;\">\n",
       "      <th></th>\n",
       "      <th>Country</th>\n",
       "      <th>Region</th>\n",
       "      <th>Year</th>\n",
       "      <th>Infant_deaths</th>\n",
       "      <th>Under_five_deaths</th>\n",
       "      <th>Adult_mortality</th>\n",
       "      <th>Alcohol_consumption</th>\n",
       "      <th>Hepatitis_B</th>\n",
       "      <th>Measles</th>\n",
       "      <th>BMI</th>\n",
       "      <th>Polio</th>\n",
       "      <th>Diphtheria</th>\n",
       "      <th>Incidents_HIV</th>\n",
       "      <th>GDP_per_capita</th>\n",
       "      <th>Population_mln</th>\n",
       "      <th>Thinness_ten_nineteen_years</th>\n",
       "      <th>Thinness_five_nine_years</th>\n",
       "      <th>Schooling</th>\n",
       "      <th>Economy_status_Developed</th>\n",
       "      <th>Economy_status_Developing</th>\n",
       "      <th>Life_expectancy</th>\n",
       "    </tr>\n",
       "  </thead>\n",
       "  <tbody>\n",
       "    <tr>\n",
       "      <th>225</th>\n",
       "      <td>Haiti</td>\n",
       "      <td>Central America and Caribbean</td>\n",
       "      <td>2010</td>\n",
       "      <td>102.6</td>\n",
       "      <td>203.6</td>\n",
       "      <td>262.2060</td>\n",
       "      <td>2.280</td>\n",
       "      <td>60</td>\n",
       "      <td>83</td>\n",
       "      <td>24.6</td>\n",
       "      <td>66</td>\n",
       "      <td>66</td>\n",
       "      <td>0.90</td>\n",
       "      <td>1297</td>\n",
       "      <td>9.95</td>\n",
       "      <td>4.0</td>\n",
       "      <td>4.0</td>\n",
       "      <td>4.7</td>\n",
       "      <td>0</td>\n",
       "      <td>1</td>\n",
       "      <td>60.5</td>\n",
       "    </tr>\n",
       "    <tr>\n",
       "      <th>383</th>\n",
       "      <td>Niger</td>\n",
       "      <td>Africa</td>\n",
       "      <td>2001</td>\n",
       "      <td>93.7</td>\n",
       "      <td>215.2</td>\n",
       "      <td>290.6955</td>\n",
       "      <td>0.093</td>\n",
       "      <td>72</td>\n",
       "      <td>64</td>\n",
       "      <td>20.9</td>\n",
       "      <td>42</td>\n",
       "      <td>36</td>\n",
       "      <td>0.44</td>\n",
       "      <td>413</td>\n",
       "      <td>11.75</td>\n",
       "      <td>12.7</td>\n",
       "      <td>12.7</td>\n",
       "      <td>1.1</td>\n",
       "      <td>0</td>\n",
       "      <td>1</td>\n",
       "      <td>50.6</td>\n",
       "    </tr>\n",
       "    <tr>\n",
       "      <th>1417</th>\n",
       "      <td>Sierra Leone</td>\n",
       "      <td>Africa</td>\n",
       "      <td>2000</td>\n",
       "      <td>138.1</td>\n",
       "      <td>224.9</td>\n",
       "      <td>531.3245</td>\n",
       "      <td>3.750</td>\n",
       "      <td>71</td>\n",
       "      <td>60</td>\n",
       "      <td>22.0</td>\n",
       "      <td>46</td>\n",
       "      <td>44</td>\n",
       "      <td>1.59</td>\n",
       "      <td>403</td>\n",
       "      <td>4.58</td>\n",
       "      <td>1.3</td>\n",
       "      <td>1.4</td>\n",
       "      <td>2.3</td>\n",
       "      <td>0</td>\n",
       "      <td>1</td>\n",
       "      <td>39.4</td>\n",
       "    </tr>\n",
       "    <tr>\n",
       "      <th>1815</th>\n",
       "      <td>Sierra Leone</td>\n",
       "      <td>Africa</td>\n",
       "      <td>2001</td>\n",
       "      <td>135.6</td>\n",
       "      <td>219.4</td>\n",
       "      <td>519.6305</td>\n",
       "      <td>3.980</td>\n",
       "      <td>71</td>\n",
       "      <td>60</td>\n",
       "      <td>22.1</td>\n",
       "      <td>38</td>\n",
       "      <td>38</td>\n",
       "      <td>1.57</td>\n",
       "      <td>364</td>\n",
       "      <td>4.75</td>\n",
       "      <td>1.1</td>\n",
       "      <td>1.2</td>\n",
       "      <td>2.4</td>\n",
       "      <td>0</td>\n",
       "      <td>1</td>\n",
       "      <td>40.4</td>\n",
       "    </tr>\n",
       "    <tr>\n",
       "      <th>1923</th>\n",
       "      <td>Sierra Leone</td>\n",
       "      <td>Africa</td>\n",
       "      <td>2002</td>\n",
       "      <td>132.9</td>\n",
       "      <td>213.9</td>\n",
       "      <td>507.9370</td>\n",
       "      <td>3.900</td>\n",
       "      <td>71</td>\n",
       "      <td>60</td>\n",
       "      <td>22.2</td>\n",
       "      <td>54</td>\n",
       "      <td>53</td>\n",
       "      <td>1.53</td>\n",
       "      <td>441</td>\n",
       "      <td>4.97</td>\n",
       "      <td>9.9</td>\n",
       "      <td>1.0</td>\n",
       "      <td>2.5</td>\n",
       "      <td>0</td>\n",
       "      <td>1</td>\n",
       "      <td>41.4</td>\n",
       "    </tr>\n",
       "    <tr>\n",
       "      <th>1970</th>\n",
       "      <td>Angola</td>\n",
       "      <td>Africa</td>\n",
       "      <td>2000</td>\n",
       "      <td>121.5</td>\n",
       "      <td>204.4</td>\n",
       "      <td>371.4315</td>\n",
       "      <td>1.470</td>\n",
       "      <td>67</td>\n",
       "      <td>64</td>\n",
       "      <td>21.7</td>\n",
       "      <td>21</td>\n",
       "      <td>28</td>\n",
       "      <td>1.24</td>\n",
       "      <td>1832</td>\n",
       "      <td>16.40</td>\n",
       "      <td>1.9</td>\n",
       "      <td>1.9</td>\n",
       "      <td>4.4</td>\n",
       "      <td>0</td>\n",
       "      <td>1</td>\n",
       "      <td>46.5</td>\n",
       "    </tr>\n",
       "    <tr>\n",
       "      <th>2425</th>\n",
       "      <td>Niger</td>\n",
       "      <td>Africa</td>\n",
       "      <td>2002</td>\n",
       "      <td>90.1</td>\n",
       "      <td>204.5</td>\n",
       "      <td>289.5665</td>\n",
       "      <td>0.088</td>\n",
       "      <td>72</td>\n",
       "      <td>64</td>\n",
       "      <td>20.9</td>\n",
       "      <td>43</td>\n",
       "      <td>39</td>\n",
       "      <td>0.38</td>\n",
       "      <td>418</td>\n",
       "      <td>12.19</td>\n",
       "      <td>12.5</td>\n",
       "      <td>12.5</td>\n",
       "      <td>1.2</td>\n",
       "      <td>0</td>\n",
       "      <td>1</td>\n",
       "      <td>51.3</td>\n",
       "    </tr>\n",
       "    <tr>\n",
       "      <th>2765</th>\n",
       "      <td>Sierra Leone</td>\n",
       "      <td>Africa</td>\n",
       "      <td>2004</td>\n",
       "      <td>127.2</td>\n",
       "      <td>202.0</td>\n",
       "      <td>483.7790</td>\n",
       "      <td>3.810</td>\n",
       "      <td>70</td>\n",
       "      <td>60</td>\n",
       "      <td>22.3</td>\n",
       "      <td>69</td>\n",
       "      <td>65</td>\n",
       "      <td>1.41</td>\n",
       "      <td>469</td>\n",
       "      <td>5.43</td>\n",
       "      <td>9.5</td>\n",
       "      <td>9.5</td>\n",
       "      <td>2.6</td>\n",
       "      <td>0</td>\n",
       "      <td>1</td>\n",
       "      <td>43.5</td>\n",
       "    </tr>\n",
       "    <tr>\n",
       "      <th>2803</th>\n",
       "      <td>Sierra Leone</td>\n",
       "      <td>Africa</td>\n",
       "      <td>2003</td>\n",
       "      <td>130.2</td>\n",
       "      <td>208.1</td>\n",
       "      <td>495.8585</td>\n",
       "      <td>3.870</td>\n",
       "      <td>72</td>\n",
       "      <td>60</td>\n",
       "      <td>22.2</td>\n",
       "      <td>66</td>\n",
       "      <td>73</td>\n",
       "      <td>1.49</td>\n",
       "      <td>460</td>\n",
       "      <td>5.20</td>\n",
       "      <td>9.7</td>\n",
       "      <td>9.8</td>\n",
       "      <td>2.5</td>\n",
       "      <td>0</td>\n",
       "      <td>1</td>\n",
       "      <td>42.4</td>\n",
       "    </tr>\n",
       "    <tr>\n",
       "      <th>2859</th>\n",
       "      <td>Niger</td>\n",
       "      <td>Africa</td>\n",
       "      <td>2000</td>\n",
       "      <td>97.0</td>\n",
       "      <td>224.9</td>\n",
       "      <td>291.8240</td>\n",
       "      <td>0.092</td>\n",
       "      <td>72</td>\n",
       "      <td>64</td>\n",
       "      <td>20.8</td>\n",
       "      <td>41</td>\n",
       "      <td>34</td>\n",
       "      <td>0.49</td>\n",
       "      <td>399</td>\n",
       "      <td>11.33</td>\n",
       "      <td>12.8</td>\n",
       "      <td>12.9</td>\n",
       "      <td>1.1</td>\n",
       "      <td>0</td>\n",
       "      <td>1</td>\n",
       "      <td>49.9</td>\n",
       "    </tr>\n",
       "  </tbody>\n",
       "</table>\n",
       "</div>"
      ],
      "text/plain": [
       "           Country                         Region  Year  Infant_deaths  \\\n",
       "225          Haiti  Central America and Caribbean  2010          102.6   \n",
       "383          Niger                         Africa  2001           93.7   \n",
       "1417  Sierra Leone                         Africa  2000          138.1   \n",
       "1815  Sierra Leone                         Africa  2001          135.6   \n",
       "1923  Sierra Leone                         Africa  2002          132.9   \n",
       "1970        Angola                         Africa  2000          121.5   \n",
       "2425         Niger                         Africa  2002           90.1   \n",
       "2765  Sierra Leone                         Africa  2004          127.2   \n",
       "2803  Sierra Leone                         Africa  2003          130.2   \n",
       "2859         Niger                         Africa  2000           97.0   \n",
       "\n",
       "      Under_five_deaths  Adult_mortality  Alcohol_consumption  Hepatitis_B  \\\n",
       "225               203.6         262.2060                2.280           60   \n",
       "383               215.2         290.6955                0.093           72   \n",
       "1417              224.9         531.3245                3.750           71   \n",
       "1815              219.4         519.6305                3.980           71   \n",
       "1923              213.9         507.9370                3.900           71   \n",
       "1970              204.4         371.4315                1.470           67   \n",
       "2425              204.5         289.5665                0.088           72   \n",
       "2765              202.0         483.7790                3.810           70   \n",
       "2803              208.1         495.8585                3.870           72   \n",
       "2859              224.9         291.8240                0.092           72   \n",
       "\n",
       "      Measles   BMI  Polio  Diphtheria  Incidents_HIV  GDP_per_capita  \\\n",
       "225        83  24.6     66          66           0.90            1297   \n",
       "383        64  20.9     42          36           0.44             413   \n",
       "1417       60  22.0     46          44           1.59             403   \n",
       "1815       60  22.1     38          38           1.57             364   \n",
       "1923       60  22.2     54          53           1.53             441   \n",
       "1970       64  21.7     21          28           1.24            1832   \n",
       "2425       64  20.9     43          39           0.38             418   \n",
       "2765       60  22.3     69          65           1.41             469   \n",
       "2803       60  22.2     66          73           1.49             460   \n",
       "2859       64  20.8     41          34           0.49             399   \n",
       "\n",
       "      Population_mln  Thinness_ten_nineteen_years  Thinness_five_nine_years  \\\n",
       "225             9.95                          4.0                       4.0   \n",
       "383            11.75                         12.7                      12.7   \n",
       "1417            4.58                          1.3                       1.4   \n",
       "1815            4.75                          1.1                       1.2   \n",
       "1923            4.97                          9.9                       1.0   \n",
       "1970           16.40                          1.9                       1.9   \n",
       "2425           12.19                         12.5                      12.5   \n",
       "2765            5.43                          9.5                       9.5   \n",
       "2803            5.20                          9.7                       9.8   \n",
       "2859           11.33                         12.8                      12.9   \n",
       "\n",
       "      Schooling  Economy_status_Developed  Economy_status_Developing  \\\n",
       "225         4.7                         0                          1   \n",
       "383         1.1                         0                          1   \n",
       "1417        2.3                         0                          1   \n",
       "1815        2.4                         0                          1   \n",
       "1923        2.5                         0                          1   \n",
       "1970        4.4                         0                          1   \n",
       "2425        1.2                         0                          1   \n",
       "2765        2.6                         0                          1   \n",
       "2803        2.5                         0                          1   \n",
       "2859        1.1                         0                          1   \n",
       "\n",
       "      Life_expectancy  \n",
       "225              60.5  \n",
       "383              50.6  \n",
       "1417             39.4  \n",
       "1815             40.4  \n",
       "1923             41.4  \n",
       "1970             46.5  \n",
       "2425             51.3  \n",
       "2765             43.5  \n",
       "2803             42.4  \n",
       "2859             49.9  "
      ]
     },
     "execution_count": 35,
     "metadata": {},
     "output_type": "execute_result"
    }
   ],
   "source": [
    "df.loc[df['Under_five_deaths'] > 200]"
   ]
  },
  {
   "cell_type": "code",
   "execution_count": null,
   "id": "e378d359-fd3a-4a36-a94f-a940eef9ce8b",
   "metadata": {},
   "outputs": [],
   "source": []
  },
  {
   "cell_type": "markdown",
   "id": "639a4025-1947-43a5-9262-c99c17dec189",
   "metadata": {},
   "source": [
    "## Correlations and Aggregates"
   ]
  },
  {
   "cell_type": "code",
   "execution_count": null,
   "id": "cd513368-73a3-4494-bb08-d5e97e6581d6",
   "metadata": {},
   "outputs": [],
   "source": [
    "df.describe()"
   ]
  },
  {
   "cell_type": "code",
   "execution_count": null,
   "id": "23e5c7c9-ba71-4feb-8d71-3d07d7b237cf",
   "metadata": {},
   "outputs": [],
   "source": [
    "df['Year'].unique()"
   ]
  },
  {
   "cell_type": "code",
   "execution_count": null,
   "id": "9037cf10-f378-46a0-b504-bf011379a1af",
   "metadata": {},
   "outputs": [],
   "source": [
    "plt.figure(figsize = (12, 12))\n",
    "sns.heatmap(df.corr(numeric_only=True), \n",
    "            annot = True,\n",
    "            vmin = -1 ,\n",
    "            vmax = +1 ,\n",
    "            cmap=sns.diverging_palette(0, 240, as_cmap=True) ,\n",
    "            fmt = '.2' ,\n",
    "            mask = np.triu(df.corr(numeric_only=True)))\n",
    "\n",
    "plt.show()"
   ]
  },
  {
   "cell_type": "code",
   "execution_count": null,
   "id": "84a727f3-d76c-421f-a6af-8de81323f46c",
   "metadata": {},
   "outputs": [],
   "source": [
    "log_gdp = np.log(df['GDP_per_capita'])\n",
    "\n",
    "sns.scatterplot(x = log_gdp,\n",
    "                y = 'Life_expectancy',\n",
    "                color = 'blue',\n",
    "                data = df)\n",
    "\n",
    "# sns.scatterplot(x = 'GDP_per_capita',\n",
    "#                 y = 'Life_expectancy',\n",
    "#                 color = 'red',\n",
    "#                 data = df)\n",
    "\n",
    "plt.show()"
   ]
  },
  {
   "cell_type": "code",
   "execution_count": null,
   "id": "0ab35006-58a2-4956-a128-e9e7ddecca27",
   "metadata": {},
   "outputs": [],
   "source": [
    "sns.scatterplot(x = 'Population_mln',\n",
    "                y = 'Life_expectancy',\n",
    "                color = 'blue',\n",
    "                data = df)\n",
    "\n",
    "plt.show()"
   ]
  },
  {
   "cell_type": "markdown",
   "id": "f7e9998f-0090-4213-864c-7c5c07567578",
   "metadata": {},
   "source": [
    "## Attempted Test Run"
   ]
  },
  {
   "cell_type": "code",
   "execution_count": null,
   "id": "76d1be18-f821-430f-bfbf-ea782e56882f",
   "metadata": {},
   "outputs": [],
   "source": [
    "# The train-test split function - we need to use this before we create the model\n",
    "from sklearn.model_selection import train_test_split\n",
    "\n",
    "# We will be using statsmodels for LinReg and then metrics to measure its performance\n",
    "import statsmodels.api as sm    # Linear regression\n",
    "import statsmodels.tools        # Evaluation metrics\n",
    "\n",
    "# For scaling\n",
    "from sklearn.preprocessing import StandardScaler, RobustScaler, MinMaxScaler"
   ]
  },
  {
   "cell_type": "markdown",
   "id": "009cc424-1220-4e13-8b0c-f0799080810c",
   "metadata": {
    "jp-MarkdownHeadingCollapsed": true
   },
   "source": [
    "## Train-Test Split"
   ]
  },
  {
   "cell_type": "code",
   "execution_count": null,
   "id": "bc3f5d56-37da-46c4-b8eb-d9b854f4c3f2",
   "metadata": {},
   "outputs": [],
   "source": [
    "feature_cols = list(df.columns)\n",
    "feature_cols.remove('Life_expectancy')\n",
    "feature_cols"
   ]
  },
  {
   "cell_type": "code",
   "execution_count": null,
   "id": "1593e681-0837-49ab-b4a3-5e4c82e42f57",
   "metadata": {},
   "outputs": [],
   "source": [
    "# Create X, and y - just using masks on the dataframe that we learned about in Pandas\n",
    "\n",
    "X = df[feature_cols]   # our set of features\n",
    "y = df['Life_expectancy']  # our target"
   ]
  },
  {
   "cell_type": "code",
   "execution_count": null,
   "id": "41afe6ae-fb45-4844-85c1-13cddb75c275",
   "metadata": {},
   "outputs": [],
   "source": [
    "feature_cols.remove('Country')\n",
    "feature_cols.remove('Region')"
   ]
  },
  {
   "cell_type": "code",
   "execution_count": null,
   "id": "21206a5f-0794-418b-8dbf-a8e8b0a257f2",
   "metadata": {},
   "outputs": [],
   "source": [
    "# Now that we have separated our features from the target - we do the train-test split\n",
    "\n",
    "X_train, X_test, y_train, y_test = train_test_split(X, # Features\n",
    "                                                    y, # Target\n",
    "                                                    test_size = 0.2, # allocate 20% for test\n",
    "                                                    random_state = 1000)"
   ]
  },
  {
   "cell_type": "code",
   "execution_count": null,
   "id": "ef297304-63b2-4d6b-aae1-96f8fa6b7efb",
   "metadata": {},
   "outputs": [],
   "source": [
    "## Next code cells are sanity checks for TEST-TRAIN split\n",
    "print(f'Indices match in X_train and y_train: {all(X_train.index == y_train.index)}')\n",
    "print(f'Indices match in X_test and y_test: {all(X_test.index == y_test.index)}')\n",
    "print(f'Number of obs. match in X_train and y_train: {X_train.shape[0] == len(y_train)}')\n",
    "print(f'Number of obs. match in X_test and y_test: {X_test.shape[0] == len(y_test)}')"
   ]
  },
  {
   "cell_type": "markdown",
   "id": "2def536f-181a-4213-93ec-b60e4e9ef632",
   "metadata": {},
   "source": [
    "## Feature Engineering"
   ]
  },
  {
   "cell_type": "code",
   "execution_count": null,
   "id": "4b548626-1307-45a7-9e8c-b4141c012cdc",
   "metadata": {},
   "outputs": [],
   "source": [
    "def feature_engineer(df):\n",
    "    df = df.copy()       # IMPORTANT! - don't want to interact with the original, global dataframe\n",
    "\n",
    "    # Now we can OHE the 'Region' column\n",
    "    df = pd.get_dummies(df, columns = ['Region'], drop_first = True, prefix = 'Region', dtype = int)\n",
    "\n",
    "    # Other Features that we wanted to change\n",
    "    df['log_gdp'] = np.log(df['GDP_per_capita'])                                         # creates an additional column for the log of GDP since it was a non-linear relationship\n",
    "    df['immunisation_avg'] = (df['Polio'] + df['Diphtheria'] + df['Hepatitis_B']) / 3    # averages the immunisation rates into one feature to avoid multicollinearity \n",
    "\n",
    "    # VITAL!!! - we MUST also add the constant term for linreg to run in statsmodels... \n",
    "    df = sm.add_constant(df)\n",
    "    \n",
    "    # Return the Feature Engineered version of the dataframe\n",
    "    return df"
   ]
  },
  {
   "cell_type": "code",
   "execution_count": null,
   "id": "5f9078e3-45d6-49e6-a03d-e618758108fe",
   "metadata": {},
   "outputs": [],
   "source": [
    "X_train_fe = feature_engineer(X_train)"
   ]
  },
  {
   "cell_type": "code",
   "execution_count": null,
   "id": "2b32a172-d767-4ecc-adac-e0e7d35a80d7",
   "metadata": {},
   "outputs": [],
   "source": [
    "list(X_train_fe.columns)"
   ]
  },
  {
   "cell_type": "code",
   "execution_count": null,
   "id": "9abcce75-c00a-4aa6-87be-facd3d98d51f",
   "metadata": {},
   "outputs": [],
   "source": [
    "feature_cols = ['const',\n",
    "# 'Country',\n",
    " 'Year',\n",
    " 'Infant_deaths',\n",
    "# 'Under_five_deaths',\n",
    " 'Adult_mortality',\n",
    " 'Alcohol_consumption',\n",
    "# 'Hepatitis_B',\n",
    " 'Measles',\n",
    " 'BMI',\n",
    "# 'Polio',\n",
    "# 'Diphtheria',\n",
    " 'Incidents_HIV',\n",
    "# 'GDP_per_capita',\n",
    "# 'Population_mln',\n",
    "# 'Thinness_ten_nineteen_years',\n",
    " 'Thinness_five_nine_years',\n",
    " 'Schooling',\n",
    " 'Economy_status_Developed',\n",
    "# 'Economy_status_Developing',\n",
    " 'Region_Asia',\n",
    " 'Region_Central America and Caribbean',\n",
    " 'Region_European Union',\n",
    " 'Region_Middle East',\n",
    " 'Region_North America',\n",
    " 'Region_Oceania',\n",
    " 'Region_Rest of Europe',\n",
    " 'Region_South America',\n",
    " 'log_gdp',\n",
    " 'immunisation_avg']"
   ]
  },
  {
   "cell_type": "code",
   "execution_count": null,
   "id": "17257f47-d3c2-4e2e-9e88-c0f6d308a3ba",
   "metadata": {},
   "outputs": [],
   "source": [
    "# def scaling(df):\n",
    "\n",
    "#     # Also want to scale in the Feature Engineering\n",
    "#     df_scale = df.copy()\n",
    "#     minmax = MinMaxScaler() ## Initialise scaler\n",
    "#     minmax.fit(df_scale) ## Fit the scaler\n",
    "\n",
    "#     ## Transform the data according to the scaler\n",
    "#     ## Save it as a new dataframe called df_scale_minmax\n",
    "#     df_scale_minmax = minmax.transform(df_scale)\n",
    "\n",
    "#     return df_scale_minmax"
   ]
  },
  {
   "cell_type": "code",
   "execution_count": null,
   "id": "4bab289a-abbc-4904-b31e-88fa0e435ba5",
   "metadata": {},
   "outputs": [],
   "source": [
    "# X_train_scaled = scaling(X_train_fe[feature_cols])"
   ]
  },
  {
   "cell_type": "markdown",
   "id": "7210aeb9-01ea-4721-9cd5-8c055c5bb3ae",
   "metadata": {},
   "source": [
    "## Creating the Model"
   ]
  },
  {
   "cell_type": "code",
   "execution_count": null,
   "id": "e799ad6c-39ec-4643-985b-12c6354ad3f7",
   "metadata": {},
   "outputs": [],
   "source": [
    "# Step 1. Create the linreg + the data you'll be using\n",
    "lin_reg = sm.OLS(y_train, X_train_fe[feature_cols])     # target, features\n",
    "\n",
    "# Step 2. Fit/train the linreg\n",
    "results = lin_reg.fit()\n",
    "\n",
    "# Step 3. View the summary of our results\n",
    "results.summary()"
   ]
  },
  {
   "cell_type": "code",
   "execution_count": null,
   "id": "5aacbfd2-0d3d-4824-aab4-94ff421c1b82",
   "metadata": {},
   "outputs": [],
   "source": [
    "## Create predictions for the training set and investigate the RMSE\n",
    "# We need to predict on the exact same format of data that we've trained on\n",
    "# In this case, we trained on the feature_cols selection of X_train_fe\n",
    "# Store the results in y_pred_train\n",
    "y_pred_train = results.predict(X_train_fe[feature_cols])\n",
    "\n",
    "# For our training predictions, generate the RMSE\n",
    "rmse_train = statsmodels.tools.eval_measures.rmse(y_train, y_pred_train)\n",
    "\n",
    "print(f'RMSE on Train: {rmse_train}')"
   ]
  },
  {
   "cell_type": "markdown",
   "id": "0d899c0b-6f71-4904-a19a-22ad99f9b29e",
   "metadata": {},
   "source": [
    "## Applying to Test Set"
   ]
  },
  {
   "cell_type": "code",
   "execution_count": null,
   "id": "1dfca3b8-2033-4597-bdff-b2a44df4e86b",
   "metadata": {},
   "outputs": [],
   "source": [
    "## We apply feature_eng to the X_test set! \n",
    "## This is why having a nice neat function is very nice! \n",
    "\n",
    "X_test_fe = feature_engineer(X_test)"
   ]
  },
  {
   "cell_type": "code",
   "execution_count": null,
   "id": "00ca6e50-dcc2-4351-9205-b1b3a956826d",
   "metadata": {},
   "outputs": [],
   "source": [
    "# Moment of truth... how well does our model generalise?\n",
    "# How well does it do on previously unseen data (test)??\n",
    "y_test_pred = results.predict(X_test_fe[feature_cols])    # Use exact same features that were \"seen\" in Train\n",
    "rmse_test = statsmodels.tools.eval_measures.rmse(y_test, y_test_pred)\n",
    "\n",
    "print(f'RMSE on Train: {rmse_train}')\n",
    "print(f'RMSE on Test: {rmse_test}')"
   ]
  },
  {
   "cell_type": "markdown",
   "id": "9894fe9a-799a-4773-a8ff-35e7a06c33eb",
   "metadata": {
    "jp-MarkdownHeadingCollapsed": true
   },
   "source": [
    "## Logarithm of the GDP"
   ]
  },
  {
   "cell_type": "code",
   "execution_count": null,
   "id": "692ba82e-3def-4ac9-bd71-7bf047f2977e",
   "metadata": {},
   "outputs": [],
   "source": [
    "log_gdp = np.log(df['GDP_per_capita'])       # create a series of the logs of GDP values\n",
    "\n",
    "sns.scatterplot(x = log_gdp,\n",
    "                y = 'Life_expectancy',\n",
    "                color = 'blue',\n",
    "                data = df)                   # check correlation between GDP and life expectancy in a scatterplot\n",
    "\n",
    "plt.show()"
   ]
  },
  {
   "cell_type": "code",
   "execution_count": null,
   "id": "7a107f5b-633d-47e5-a5ee-5f162ccffd5f",
   "metadata": {},
   "outputs": [],
   "source": [
    "df['log_gdp'] = np.log(df['GDP_per_capita'])      # create a new column in the dataframe to hold these values of log_GDP\n",
    "\n",
    "df.head()"
   ]
  },
  {
   "cell_type": "markdown",
   "id": "9164179b-cd03-4a01-8f33-abbbe55c15c6",
   "metadata": {
    "jp-MarkdownHeadingCollapsed": true
   },
   "source": [
    "## Aggregating the Immunisation Columns"
   ]
  },
  {
   "cell_type": "code",
   "execution_count": null,
   "id": "55c8de74-e4d9-4ad5-bee4-d6cfe836a097",
   "metadata": {},
   "outputs": [],
   "source": [
    "df['immunisation_avg'] = (df['Polio'] + df['Diphtheria'] + df['Hepatitis_B']) / 3 # + df['Measles']\n",
    "\n",
    "sns.scatterplot(x = 'immunisation_avg',\n",
    "                y = 'Life_expectancy',\n",
    "                color = 'blue',\n",
    "                data = df)                   # check correlation between immunisation_avg and life expectancy in a scatterplot\n",
    "\n",
    "plt.show()"
   ]
  },
  {
   "cell_type": "code",
   "execution_count": null,
   "id": "b4cf8a75-95e7-49f4-bfcb-6c12ef21facb",
   "metadata": {},
   "outputs": [],
   "source": [
    "df.head()"
   ]
  }
 ],
 "metadata": {
  "kernelspec": {
   "display_name": "Python [conda env:base] *",
   "language": "python",
   "name": "conda-base-py"
  },
  "language_info": {
   "codemirror_mode": {
    "name": "ipython",
    "version": 3
   },
   "file_extension": ".py",
   "mimetype": "text/x-python",
   "name": "python",
   "nbconvert_exporter": "python",
   "pygments_lexer": "ipython3",
   "version": "3.12.7"
  }
 },
 "nbformat": 4,
 "nbformat_minor": 5
}
