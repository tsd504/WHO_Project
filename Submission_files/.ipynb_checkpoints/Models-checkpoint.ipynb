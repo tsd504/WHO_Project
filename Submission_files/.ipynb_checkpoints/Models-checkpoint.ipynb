{
 "cells": [
  {
   "cell_type": "markdown",
   "id": "6e65dafb-d3bf-475d-bf31-b0d33ac64d43",
   "metadata": {
    "jp-MarkdownHeadingCollapsed": true
   },
   "source": [
    "# 1: Initialisation"
   ]
  },
  {
   "cell_type": "code",
   "execution_count": 2,
   "id": "5c4c04d1-4253-4f1d-a0db-ef8ab2345697",
   "metadata": {},
   "outputs": [],
   "source": [
    "# import necessary modules for the rest of the code to run without errors\n",
    "import numpy as np\n",
    "import seaborn as sns\n",
    "import matplotlib.pyplot as plt\n",
    "import pandas as pd\n",
    "import joblib\n",
    "\n",
    "# model related modules\n",
    "from sklearn.model_selection import train_test_split\n",
    "from statsmodels.stats.outliers_influence import variance_inflation_factor\n",
    "from sklearn.preprocessing import (StandardScaler, MinMaxScaler) # after testing we found Standard and MinMax worked best for our models\n",
    "import statsmodels.api as sm\n",
    "import statsmodels.tools\n",
    "from sklearn.linear_model import LassoCV"
   ]
  },
  {
   "cell_type": "markdown",
   "id": "75eb18b4-302a-4d88-a768-7087dc510567",
   "metadata": {},
   "source": [
    "# 2: Optimised Model"
   ]
  },
  {
   "cell_type": "markdown",
   "id": "5476efbe-a86e-49a1-b613-0b70bfc4c105",
   "metadata": {},
   "source": [
    "## 2.1: Feature Engineering"
   ]
  },
  {
   "cell_type": "code",
   "execution_count": 3,
   "id": "2221cf1e-ee8d-45d5-b700-1f9f98711fea",
   "metadata": {
    "jupyter": {
     "source_hidden": true
    }
   },
   "outputs": [],
   "source": [
    "# read the data from the provided csv\n",
    "df = pd.read_csv(\"Life Expectancy Data.csv\")"
   ]
  },
  {
   "cell_type": "markdown",
   "id": "ea568621-e031-4d88-a1e8-1bcb1855243c",
   "metadata": {},
   "source": [
    "#### Data-independent feature engineering\n",
    "* **OHE Region**\n",
    "* **OHE Country** `(later removed)`\n",
    "* Calculate new field: **log of GDP**\n",
    "* Calculate new field: **average immunisation**\n"
   ]
  },
  {
   "cell_type": "code",
   "execution_count": 4,
   "id": "620638cd-c057-4664-bf25-c6251ec62f2a",
   "metadata": {
    "jupyter": {
     "source_hidden": true
    }
   },
   "outputs": [],
   "source": [
    "# this function contains the feature engineering that will not result in data leakage\n",
    "def pre_split_feature_eng(df):\n",
    "    df = df.copy()\n",
    "    # df = pd.get_dummies(df, columns = ['Country'], drop_first = True, prefix = 'Country', dtype = int) # we decided not to use country\n",
    "    df = pd.get_dummies(df, columns = ['Region'], drop_first = True, prefix = 'Region', dtype = int) # OHE for region\n",
    "    df['log_GDP'] = np.log(df['GDP_per_capita']) # create a new field for log(GDP)\n",
    "    df['immunisation_avg'] = (df['Polio'] + df['Diphtheria'] + df['Hepatitis_B']) / 3 # average immunisation calculation\n",
    "    return df"
   ]
  },
  {
   "cell_type": "code",
   "execution_count": 5,
   "id": "d868d262-5d64-475c-88a1-58d29443b665",
   "metadata": {
    "jupyter": {
     "source_hidden": true
    }
   },
   "outputs": [],
   "source": [
    "OHE_df = pre_split_feature_eng(df) # apply above feature engineering to the entire dataset"
   ]
  },
  {
   "cell_type": "code",
   "execution_count": 6,
   "id": "cf9ad02e-b066-47cc-819c-a24b29ebffbe",
   "metadata": {
    "jupyter": {
     "source_hidden": true
    }
   },
   "outputs": [],
   "source": [
    "feature_cols = list(OHE_df.columns) # split the features from the target\n",
    "feature_cols.remove('Life_expectancy')"
   ]
  },
  {
   "cell_type": "code",
   "execution_count": 7,
   "id": "aad75178-5ba3-4d84-9789-ae2064d059cd",
   "metadata": {
    "jupyter": {
     "source_hidden": true
    }
   },
   "outputs": [],
   "source": [
    "# X represents our features, y represents the target\n",
    "X = OHE_df[feature_cols]\n",
    "y = OHE_df['Life_expectancy']"
   ]
  },
  {
   "cell_type": "code",
   "execution_count": 8,
   "id": "4185a9ba-d5a9-4a74-888e-78228bad17ce",
   "metadata": {
    "jupyter": {
     "source_hidden": true
    }
   },
   "outputs": [],
   "source": [
    "# split using the normal test size of 20% and a constant state for consistency across models\n",
    "X_train, X_test, y_train, y_test = train_test_split(X, y, test_size = 0.2, random_state = 42)"
   ]
  },
  {
   "cell_type": "markdown",
   "id": "eb87565c-ed98-4875-8751-58f950c1e8f6",
   "metadata": {},
   "source": [
    "#### Data-dependent feature engineering\n",
    "* Scaling `(E.g. Standard scaling)`\n",
    "\n",
    "#### Model features:\n",
    "* Year\n",
    "* Region\n",
    "* Under_five_deaths\n",
    "* Adult_mortality\n",
    "* BMI\n",
    "* Incidents_HIV\n",
    "* GDP_per_capita\n",
    "* Schooling\n",
    "* Economy_status_Developing\n",
    "\n",
    "#### Selected using a combination of:\n",
    "* VIF\n",
    "* Stepwise\n",
    "* Lasso\n",
    "* Trial and error"
   ]
  },
  {
   "cell_type": "code",
   "execution_count": 9,
   "id": "fe9076b8-1735-422c-9ff2-d14cf38432e2",
   "metadata": {
    "jupyter": {
     "source_hidden": true
    }
   },
   "outputs": [],
   "source": [
    "# columns used by our model that require scaling include:\n",
    "scale_cols = ['Schooling', 'Adult_mortality', 'Under_five_deaths', 'GDP_per_capita', 'Year', 'log_GDP', 'BMI', 'Incidents_HIV']\n",
    "\n",
    "# we tested several scalers and decided on standardscaler\n",
    "scaler = StandardScaler()\n",
    "scaler.fit(X_train[scale_cols]) # we fit our scaler on the TRAINING set, and not the testing data\n",
    "joblib.dump(scaler, 'opti_scaler.pkl') # dump our scaler to a pickle file to be used by our function notebook\n",
    "\n",
    "def feature_eng(df, scaler, scale_cols): # this function applies the scaler values to a specified set of columns in a dataframe\n",
    "    df = df.copy()\n",
    "    df[scale_cols] = scaler.transform(df[scale_cols])\n",
    "    df = sm.add_constant(df) # each row requires a constant value\n",
    "    return df"
   ]
  },
  {
   "cell_type": "code",
   "execution_count": 10,
   "id": "fb46eb1f-f10a-4c86-92d6-d7e916e0a7e5",
   "metadata": {
    "jupyter": {
     "source_hidden": true
    }
   },
   "outputs": [],
   "source": [
    "X_train_fe = feature_eng(X_train, scaler, scale_cols) # apply the standard scaler to the train set"
   ]
  },
  {
   "cell_type": "markdown",
   "id": "dd9a3cad-b002-45f8-b541-3a9ba7532d78",
   "metadata": {},
   "source": [
    "## 2.2: Fitting the Model"
   ]
  },
  {
   "cell_type": "code",
   "execution_count": 11,
   "id": "1d4f86b8-89bd-474c-bb84-6f347922147b",
   "metadata": {
    "jupyter": {
     "source_hidden": true
    }
   },
   "outputs": [],
   "source": [
    "# dropping 'Economy_status_Developing' at index: 17\n",
    "# dropping 'Polio' at index: 8\n",
    "# dropping 'Infant_deaths' at index: 1\n",
    "# dropping 'Diphtheria' at index: 7\n",
    "# dropping 'Schooling' at index: 12\n",
    "# dropping 'Hepatitis_B' at index: 4\n",
    "# dropping 'Thinness_ten_nineteen_years' at index: 9\n",
    "# dropping 'Adult_mortality' at index: 2\n",
    "# dropping 'BMI' at index: 4\n",
    "# dropping 'Measles' at index: 3\n",
    "# Cond 17.9 RMSE 2.2\n",
    "\n",
    "# dropping 'Economy_status_Developing' at index: 17\n",
    "# dropping 'Polio' at index: 8\n",
    "# dropping 'Infant_deaths' at index: 1\n",
    "# dropping 'Diphtheria' at index: 7\n",
    "# dropping 'Schooling' at index: 12\n",
    "# dropping 'Hepatitis_B' at index: 4\n",
    "# Cond 39.6 RMSE 1.2"
   ]
  },
  {
   "cell_type": "markdown",
   "id": "550a08a9-bd44-4b7f-991e-b3cda8c14e1a",
   "metadata": {},
   "source": [
    "#### Model Results:\n",
    "* High R^2 of `0.984`\n",
    "* Low relative AIC and BIC\n",
    "* Low condition number of `25.2`"
   ]
  },
  {
   "cell_type": "code",
   "execution_count": 12,
   "id": "d4db2a58-6bcf-4207-945c-f47960f1ef99",
   "metadata": {
    "jupyter": {
     "source_hidden": true
    }
   },
   "outputs": [
    {
     "data": {
      "text/html": [
       "<table class=\"simpletable\">\n",
       "<caption>OLS Regression Results</caption>\n",
       "<tr>\n",
       "  <th>Dep. Variable:</th>     <td>Life_expectancy</td> <th>  R-squared:         </th> <td>   0.984</td>\n",
       "</tr>\n",
       "<tr>\n",
       "  <th>Model:</th>                   <td>OLS</td>       <th>  Adj. R-squared:    </th> <td>   0.984</td>\n",
       "</tr>\n",
       "<tr>\n",
       "  <th>Method:</th>             <td>Least Squares</td>  <th>  F-statistic:       </th> <td>   9259.</td>\n",
       "</tr>\n",
       "<tr>\n",
       "  <th>Date:</th>             <td>Wed, 16 Jul 2025</td> <th>  Prob (F-statistic):</th>  <td>  0.00</td> \n",
       "</tr>\n",
       "<tr>\n",
       "  <th>Time:</th>                 <td>08:45:58</td>     <th>  Log-Likelihood:    </th> <td> -3674.0</td>\n",
       "</tr>\n",
       "<tr>\n",
       "  <th>No. Observations:</th>      <td>  2291</td>      <th>  AIC:               </th> <td>   7380.</td>\n",
       "</tr>\n",
       "<tr>\n",
       "  <th>Df Residuals:</th>          <td>  2275</td>      <th>  BIC:               </th> <td>   7472.</td>\n",
       "</tr>\n",
       "<tr>\n",
       "  <th>Df Model:</th>              <td>    15</td>      <th>                     </th>     <td> </td>   \n",
       "</tr>\n",
       "<tr>\n",
       "  <th>Covariance Type:</th>      <td>nonrobust</td>    <th>                     </th>     <td> </td>   \n",
       "</tr>\n",
       "</table>\n",
       "<table class=\"simpletable\">\n",
       "<tr>\n",
       "                    <td></td>                      <th>coef</th>     <th>std err</th>      <th>t</th>      <th>P>|t|</th>  <th>[0.025</th>    <th>0.975]</th>  \n",
       "</tr>\n",
       "<tr>\n",
       "  <th>const</th>                                <td>   70.6152</td> <td>    0.159</td> <td>  444.048</td> <td> 0.000</td> <td>   70.303</td> <td>   70.927</td>\n",
       "</tr>\n",
       "<tr>\n",
       "  <th>Schooling</th>                            <td>    0.3440</td> <td>    0.054</td> <td>    6.392</td> <td> 0.000</td> <td>    0.238</td> <td>    0.449</td>\n",
       "</tr>\n",
       "<tr>\n",
       "  <th>Adult_mortality</th>                      <td>   -5.4056</td> <td>    0.071</td> <td>  -76.183</td> <td> 0.000</td> <td>   -5.545</td> <td>   -5.266</td>\n",
       "</tr>\n",
       "<tr>\n",
       "  <th>Under_five_deaths</th>                    <td>   -3.4429</td> <td>    0.065</td> <td>  -52.861</td> <td> 0.000</td> <td>   -3.571</td> <td>   -3.315</td>\n",
       "</tr>\n",
       "<tr>\n",
       "  <th>Economy_status_Developing</th>            <td>   -2.5135</td> <td>    0.164</td> <td>  -15.357</td> <td> 0.000</td> <td>   -2.834</td> <td>   -2.193</td>\n",
       "</tr>\n",
       "<tr>\n",
       "  <th>Region_Central America and Caribbean</th> <td>    1.8301</td> <td>    0.097</td> <td>   18.905</td> <td> 0.000</td> <td>    1.640</td> <td>    2.020</td>\n",
       "</tr>\n",
       "<tr>\n",
       "  <th>Region_South America</th>                 <td>    1.5339</td> <td>    0.109</td> <td>   14.012</td> <td> 0.000</td> <td>    1.319</td> <td>    1.749</td>\n",
       "</tr>\n",
       "<tr>\n",
       "  <th>GDP_per_capita</th>                       <td>    0.1304</td> <td>    0.056</td> <td>    2.345</td> <td> 0.019</td> <td>    0.021</td> <td>    0.239</td>\n",
       "</tr>\n",
       "<tr>\n",
       "  <th>Region_Oceania</th>                       <td>   -0.8664</td> <td>    0.125</td> <td>   -6.917</td> <td> 0.000</td> <td>   -1.112</td> <td>   -0.621</td>\n",
       "</tr>\n",
       "<tr>\n",
       "  <th>Region_European Union</th>                <td>   -0.7054</td> <td>    0.157</td> <td>   -4.479</td> <td> 0.000</td> <td>   -1.014</td> <td>   -0.397</td>\n",
       "</tr>\n",
       "<tr>\n",
       "  <th>Year</th>                                 <td>    0.1566</td> <td>    0.026</td> <td>    5.945</td> <td> 0.000</td> <td>    0.105</td> <td>    0.208</td>\n",
       "</tr>\n",
       "<tr>\n",
       "  <th>log_GDP</th>                              <td>    0.5035</td> <td>    0.078</td> <td>    6.450</td> <td> 0.000</td> <td>    0.350</td> <td>    0.657</td>\n",
       "</tr>\n",
       "<tr>\n",
       "  <th>BMI</th>                                  <td>   -0.3411</td> <td>    0.043</td> <td>   -7.911</td> <td> 0.000</td> <td>   -0.426</td> <td>   -0.257</td>\n",
       "</tr>\n",
       "<tr>\n",
       "  <th>Incidents_HIV</th>                        <td>    0.1779</td> <td>    0.044</td> <td>    4.039</td> <td> 0.000</td> <td>    0.092</td> <td>    0.264</td>\n",
       "</tr>\n",
       "<tr>\n",
       "  <th>Region_Rest of Europe</th>                <td>    0.3850</td> <td>    0.113</td> <td>    3.409</td> <td> 0.001</td> <td>    0.164</td> <td>    0.606</td>\n",
       "</tr>\n",
       "<tr>\n",
       "  <th>Region_North America</th>                 <td>    0.7020</td> <td>    0.215</td> <td>    3.264</td> <td> 0.001</td> <td>    0.280</td> <td>    1.124</td>\n",
       "</tr>\n",
       "</table>\n",
       "<table class=\"simpletable\">\n",
       "<tr>\n",
       "  <th>Omnibus:</th>       <td>33.967</td> <th>  Durbin-Watson:     </th> <td>   2.016</td>\n",
       "</tr>\n",
       "<tr>\n",
       "  <th>Prob(Omnibus):</th> <td> 0.000</td> <th>  Jarque-Bera (JB):  </th> <td>  48.839</td>\n",
       "</tr>\n",
       "<tr>\n",
       "  <th>Skew:</th>          <td> 0.165</td> <th>  Prob(JB):          </th> <td>2.48e-11</td>\n",
       "</tr>\n",
       "<tr>\n",
       "  <th>Kurtosis:</th>      <td> 3.635</td> <th>  Cond. No.          </th> <td>    25.2</td>\n",
       "</tr>\n",
       "</table><br/><br/>Notes:<br/>[1] Standard Errors assume that the covariance matrix of the errors is correctly specified."
      ],
      "text/latex": [
       "\\begin{center}\n",
       "\\begin{tabular}{lclc}\n",
       "\\toprule\n",
       "\\textbf{Dep. Variable:}                        & Life\\_expectancy & \\textbf{  R-squared:         } &     0.984   \\\\\n",
       "\\textbf{Model:}                                &       OLS        & \\textbf{  Adj. R-squared:    } &     0.984   \\\\\n",
       "\\textbf{Method:}                               &  Least Squares   & \\textbf{  F-statistic:       } &     9259.   \\\\\n",
       "\\textbf{Date:}                                 & Wed, 16 Jul 2025 & \\textbf{  Prob (F-statistic):} &     0.00    \\\\\n",
       "\\textbf{Time:}                                 &     08:45:58     & \\textbf{  Log-Likelihood:    } &   -3674.0   \\\\\n",
       "\\textbf{No. Observations:}                     &        2291      & \\textbf{  AIC:               } &     7380.   \\\\\n",
       "\\textbf{Df Residuals:}                         &        2275      & \\textbf{  BIC:               } &     7472.   \\\\\n",
       "\\textbf{Df Model:}                             &          15      & \\textbf{                     } &             \\\\\n",
       "\\textbf{Covariance Type:}                      &    nonrobust     & \\textbf{                     } &             \\\\\n",
       "\\bottomrule\n",
       "\\end{tabular}\n",
       "\\begin{tabular}{lcccccc}\n",
       "                                               & \\textbf{coef} & \\textbf{std err} & \\textbf{t} & \\textbf{P$> |$t$|$} & \\textbf{[0.025} & \\textbf{0.975]}  \\\\\n",
       "\\midrule\n",
       "\\textbf{const}                                 &      70.6152  &        0.159     &   444.048  &         0.000        &       70.303    &       70.927     \\\\\n",
       "\\textbf{Schooling}                             &       0.3440  &        0.054     &     6.392  &         0.000        &        0.238    &        0.449     \\\\\n",
       "\\textbf{Adult\\_mortality}                      &      -5.4056  &        0.071     &   -76.183  &         0.000        &       -5.545    &       -5.266     \\\\\n",
       "\\textbf{Under\\_five\\_deaths}                   &      -3.4429  &        0.065     &   -52.861  &         0.000        &       -3.571    &       -3.315     \\\\\n",
       "\\textbf{Economy\\_status\\_Developing}           &      -2.5135  &        0.164     &   -15.357  &         0.000        &       -2.834    &       -2.193     \\\\\n",
       "\\textbf{Region\\_Central America and Caribbean} &       1.8301  &        0.097     &    18.905  &         0.000        &        1.640    &        2.020     \\\\\n",
       "\\textbf{Region\\_South America}                 &       1.5339  &        0.109     &    14.012  &         0.000        &        1.319    &        1.749     \\\\\n",
       "\\textbf{GDP\\_per\\_capita}                      &       0.1304  &        0.056     &     2.345  &         0.019        &        0.021    &        0.239     \\\\\n",
       "\\textbf{Region\\_Oceania}                       &      -0.8664  &        0.125     &    -6.917  &         0.000        &       -1.112    &       -0.621     \\\\\n",
       "\\textbf{Region\\_European Union}                &      -0.7054  &        0.157     &    -4.479  &         0.000        &       -1.014    &       -0.397     \\\\\n",
       "\\textbf{Year}                                  &       0.1566  &        0.026     &     5.945  &         0.000        &        0.105    &        0.208     \\\\\n",
       "\\textbf{log\\_GDP}                              &       0.5035  &        0.078     &     6.450  &         0.000        &        0.350    &        0.657     \\\\\n",
       "\\textbf{BMI}                                   &      -0.3411  &        0.043     &    -7.911  &         0.000        &       -0.426    &       -0.257     \\\\\n",
       "\\textbf{Incidents\\_HIV}                        &       0.1779  &        0.044     &     4.039  &         0.000        &        0.092    &        0.264     \\\\\n",
       "\\textbf{Region\\_Rest of Europe}                &       0.3850  &        0.113     &     3.409  &         0.001        &        0.164    &        0.606     \\\\\n",
       "\\textbf{Region\\_North America}                 &       0.7020  &        0.215     &     3.264  &         0.001        &        0.280    &        1.124     \\\\\n",
       "\\bottomrule\n",
       "\\end{tabular}\n",
       "\\begin{tabular}{lclc}\n",
       "\\textbf{Omnibus:}       & 33.967 & \\textbf{  Durbin-Watson:     } &    2.016  \\\\\n",
       "\\textbf{Prob(Omnibus):} &  0.000 & \\textbf{  Jarque-Bera (JB):  } &   48.839  \\\\\n",
       "\\textbf{Skew:}          &  0.165 & \\textbf{  Prob(JB):          } & 2.48e-11  \\\\\n",
       "\\textbf{Kurtosis:}      &  3.635 & \\textbf{  Cond. No.          } &     25.2  \\\\\n",
       "\\bottomrule\n",
       "\\end{tabular}\n",
       "%\\caption{OLS Regression Results}\n",
       "\\end{center}\n",
       "\n",
       "Notes: \\newline\n",
       " [1] Standard Errors assume that the covariance matrix of the errors is correctly specified."
      ],
      "text/plain": [
       "<class 'statsmodels.iolib.summary.Summary'>\n",
       "\"\"\"\n",
       "                            OLS Regression Results                            \n",
       "==============================================================================\n",
       "Dep. Variable:        Life_expectancy   R-squared:                       0.984\n",
       "Model:                            OLS   Adj. R-squared:                  0.984\n",
       "Method:                 Least Squares   F-statistic:                     9259.\n",
       "Date:                Wed, 16 Jul 2025   Prob (F-statistic):               0.00\n",
       "Time:                        08:45:58   Log-Likelihood:                -3674.0\n",
       "No. Observations:                2291   AIC:                             7380.\n",
       "Df Residuals:                    2275   BIC:                             7472.\n",
       "Df Model:                          15                                         \n",
       "Covariance Type:            nonrobust                                         \n",
       "========================================================================================================\n",
       "                                           coef    std err          t      P>|t|      [0.025      0.975]\n",
       "--------------------------------------------------------------------------------------------------------\n",
       "const                                   70.6152      0.159    444.048      0.000      70.303      70.927\n",
       "Schooling                                0.3440      0.054      6.392      0.000       0.238       0.449\n",
       "Adult_mortality                         -5.4056      0.071    -76.183      0.000      -5.545      -5.266\n",
       "Under_five_deaths                       -3.4429      0.065    -52.861      0.000      -3.571      -3.315\n",
       "Economy_status_Developing               -2.5135      0.164    -15.357      0.000      -2.834      -2.193\n",
       "Region_Central America and Caribbean     1.8301      0.097     18.905      0.000       1.640       2.020\n",
       "Region_South America                     1.5339      0.109     14.012      0.000       1.319       1.749\n",
       "GDP_per_capita                           0.1304      0.056      2.345      0.019       0.021       0.239\n",
       "Region_Oceania                          -0.8664      0.125     -6.917      0.000      -1.112      -0.621\n",
       "Region_European Union                   -0.7054      0.157     -4.479      0.000      -1.014      -0.397\n",
       "Year                                     0.1566      0.026      5.945      0.000       0.105       0.208\n",
       "log_GDP                                  0.5035      0.078      6.450      0.000       0.350       0.657\n",
       "BMI                                     -0.3411      0.043     -7.911      0.000      -0.426      -0.257\n",
       "Incidents_HIV                            0.1779      0.044      4.039      0.000       0.092       0.264\n",
       "Region_Rest of Europe                    0.3850      0.113      3.409      0.001       0.164       0.606\n",
       "Region_North America                     0.7020      0.215      3.264      0.001       0.280       1.124\n",
       "==============================================================================\n",
       "Omnibus:                       33.967   Durbin-Watson:                   2.016\n",
       "Prob(Omnibus):                  0.000   Jarque-Bera (JB):               48.839\n",
       "Skew:                           0.165   Prob(JB):                     2.48e-11\n",
       "Kurtosis:                       3.635   Cond. No.                         25.2\n",
       "==============================================================================\n",
       "\n",
       "Notes:\n",
       "[1] Standard Errors assume that the covariance matrix of the errors is correctly specified.\n",
       "\"\"\""
      ]
     },
     "execution_count": 12,
     "metadata": {},
     "output_type": "execute_result"
    }
   ],
   "source": [
    "# selected features as a result of trial and error, VIF, Lasso and Stepwise testing\n",
    "feature_cols = ['const', 'Schooling', 'Adult_mortality', 'Under_five_deaths', 'Economy_status_Developing', 'Region_Central America and Caribbean', 'Region_South America', 'GDP_per_capita', 'Region_Oceania', 'Region_European Union', 'Year', 'log_GDP', 'BMI', 'Incidents_HIV', 'Region_Rest of Europe', 'Region_North America']\n",
    "\n",
    "lin_reg = sm.OLS(y_train, X_train_fe[feature_cols]) # creating the linear regression model\n",
    "results = lin_reg.fit() # traininf the model\n",
    "joblib.dump(results, 'opti_model.pkl') # saving the model to a file for our function notebook\n",
    "results.summary() # viewing results"
   ]
  },
  {
   "cell_type": "markdown",
   "id": "0c9ef467-55f1-4d6b-96f6-8b4f474a7e0b",
   "metadata": {},
   "source": [
    "## 2.3 Testing Optimised Prediction"
   ]
  },
  {
   "cell_type": "code",
   "execution_count": 13,
   "id": "6b17e7f7-4f72-4d98-8dee-37e46f036603",
   "metadata": {
    "jupyter": {
     "source_hidden": true
    }
   },
   "outputs": [
    {
     "name": "stdout",
     "output_type": "stream",
     "text": [
      "Train RMSE: 1.203\n"
     ]
    }
   ],
   "source": [
    "y_pred_train = results.predict(X_train_fe[feature_cols]) # use the model to make predictions on training feature data\n",
    "\n",
    "rmse_train = statsmodels.tools.eval_measures.rmse(y_train, y_pred_train) # calculate rmse using predicted and actual target values\n",
    "\n",
    "print(f'Train RMSE: {round(rmse_train,3)}') "
   ]
  },
  {
   "cell_type": "code",
   "execution_count": 14,
   "id": "dc8df941-c21b-4bd7-bdcd-0f99feac553b",
   "metadata": {
    "jupyter": {
     "source_hidden": true
    }
   },
   "outputs": [],
   "source": [
    "X_test_fe = feature_eng(X_test, scaler, scale_cols) # feature engineer and scale the testing features using the TRAINING scale\n",
    "X_test_fe = X_test_fe[feature_cols] # select the features"
   ]
  },
  {
   "cell_type": "code",
   "execution_count": 16,
   "id": "20c787fa-0ab1-4223-9389-2afc6c0364fd",
   "metadata": {
    "jupyter": {
     "source_hidden": true
    }
   },
   "outputs": [
    {
     "name": "stdout",
     "output_type": "stream",
     "text": [
      "Test RMSE: 1.226\n"
     ]
    }
   ],
   "source": [
    "y_test_pred = results.predict(X_test_fe) # predict target using test features\n",
    "rmse = statsmodels.tools.eval_measures.rmse(y_test, y_test_pred) # calculate rmse of predicted and actual test target values\n",
    "print(f'Test RMSE: {round(rmse,3)}')"
   ]
  },
  {
   "cell_type": "markdown",
   "id": "df00165b-dcce-45f9-a973-8a468303f34d",
   "metadata": {},
   "source": [
    "#### Possible indication of overfitting:\n",
    "* `0.02` is relatively small\n",
    "* Feature selection was performed using `Lasso`"
   ]
  },
  {
   "cell_type": "markdown",
   "id": "bf17b1fe-9952-4c8d-90fb-6f7d8b53f7aa",
   "metadata": {},
   "source": [
    "# 3: Feature Selection Metrics"
   ]
  },
  {
   "cell_type": "markdown",
   "id": "7639621b-ec4d-49ae-a5cc-b85ece220da2",
   "metadata": {},
   "source": [
    "> Trial and error: We repeatedly adjusted the feature selection thresholds and tested the results until we found the model with the best performance."
   ]
  },
  {
   "cell_type": "markdown",
   "id": "61dfa9e9-f7a7-4e3d-a03f-4da9e50bec2d",
   "metadata": {
    "jp-MarkdownHeadingCollapsed": true
   },
   "source": [
    "## 3.1: Calculate VIF (Variance Inflation Factor)"
   ]
  },
  {
   "cell_type": "code",
   "execution_count": 16,
   "id": "87a6b1b3-3887-4539-b9aa-b048de79b163",
   "metadata": {},
   "outputs": [],
   "source": [
    "def calculate_vif(X, thresh = 10):\n",
    "    variables = list(range(X.shape[1]))\n",
    "    dropped = True\n",
    "    while dropped:\n",
    "        dropped = False\n",
    "        # this bit uses list comprehension to gather all the VIF values of the different variables\n",
    "        vif = [variance_inflation_factor(X.iloc[:, variables].values, ix)\n",
    "               for ix in range(X.iloc[:, variables].shape[1])]\n",
    "        \n",
    "        maxloc = vif.index(max(vif)) # getting the index of the highest VIF value\n",
    "        if max(vif) > thresh:\n",
    "            print('dropping \\'' + X.iloc[:, variables].columns[maxloc] +\n",
    "                  '\\' at index: ' + str(maxloc))\n",
    "            del variables[maxloc] # we delete the highest VIF value on condition that it's higher than the threshold\n",
    "            dropped = True # if we deleted anything, we set the 'dropped' value to True to stay in the while loop\n",
    "\n",
    "    print('Remaining variables:')\n",
    "    print(X.columns[variables]) # finally, we print the variables that are still in our set\n",
    "    return X.iloc[:, variables] # and return our X cut down to the remaining variables"
   ]
  },
  {
   "cell_type": "code",
   "execution_count": 17,
   "id": "24336f1e-12d1-4b75-9675-76ebc292098e",
   "metadata": {},
   "outputs": [
    {
     "name": "stdout",
     "output_type": "stream",
     "text": [
      "dropping 'Hepatitis_B' at index: 5\n"
     ]
    },
    {
     "name": "stderr",
     "output_type": "stream",
     "text": [
      "C:\\Users\\legom\\anaconda3\\Lib\\site-packages\\statsmodels\\stats\\outliers_influence.py:197: RuntimeWarning: divide by zero encountered in scalar divide\n",
      "  vif = 1. / (1. - r_squared_i)\n"
     ]
    },
    {
     "name": "stdout",
     "output_type": "stream",
     "text": [
      "dropping 'Economy_status_Developing' at index: 16\n",
      "dropping 'immunisation_avg' at index: 25\n",
      "dropping 'Polio' at index: 7\n",
      "dropping 'Infant_deaths' at index: 1\n",
      "dropping 'Diphtheria' at index: 6\n",
      "dropping 'Thinness_ten_nineteen_years' at index: 9\n",
      "dropping 'log_GDP' at index: 20\n",
      "Remaining variables:\n",
      "Index(['Year', 'Under_five_deaths', 'Adult_mortality', 'Alcohol_consumption',\n",
      "       'Measles', 'BMI', 'Incidents_HIV', 'GDP_per_capita', 'Population_mln',\n",
      "       'Thinness_five_nine_years', 'Schooling', 'Economy_status_Developed',\n",
      "       'Region_Asia', 'Region_Central America and Caribbean',\n",
      "       'Region_European Union', 'Region_Middle East', 'Region_North America',\n",
      "       'Region_Oceania', 'Region_Rest of Europe', 'Region_South America'],\n",
      "      dtype='object')\n"
     ]
    }
   ],
   "source": [
    "VIF_variables = calculate_vif(X_train_fe[['Year', 'Infant_deaths', 'Under_five_deaths',\n",
    "       'Adult_mortality', 'Alcohol_consumption', 'Hepatitis_B', 'Measles',\n",
    "       'BMI', 'Polio', 'Diphtheria', 'Incidents_HIV', 'GDP_per_capita',\n",
    "       'Population_mln', 'Thinness_ten_nineteen_years',\n",
    "       'Thinness_five_nine_years', 'Schooling', 'Economy_status_Developed',\n",
    "       'Economy_status_Developing', 'Region_Asia',\n",
    "       'Region_Central America and Caribbean', 'Region_European Union',\n",
    "       'Region_Middle East', 'Region_North America', 'Region_Oceania',\n",
    "       'Region_Rest of Europe', 'Region_South America', 'log_GDP', 'immunisation_avg']])\n",
    "\n",
    "# Error shows 'RuntimeWarning: divide by zero encountered in scalar divide vif = 1. / (1. - r_squared_i)' this is because\n",
    "# the R^2 for some features is 1 resulting in 1 / 0, this causes the error since VIF is essentially infinite.\n",
    "# this happens when the variance in the target for a specific feature is fully explainable by a combination of other features\n",
    "# high levels of multicollinearity"
   ]
  },
  {
   "cell_type": "markdown",
   "id": "c136beee-1243-406e-b06e-ffc3571ea420",
   "metadata": {
    "jp-MarkdownHeadingCollapsed": true
   },
   "source": [
    "## 3.2: Stepwise"
   ]
  },
  {
   "cell_type": "code",
   "execution_count": 18,
   "id": "c1ec0a22-8e30-4499-b178-e2518e8e90e6",
   "metadata": {},
   "outputs": [],
   "source": [
    "def stepwise_selection(X, y, threshold_in = 0.01, threshold_out = 0.3, verbose = True):\n",
    "    # The function is checking for p-values (whether features are statistically significant) - lower is better\n",
    "    included = [] # this is going to be the list of features we keep\n",
    "    while True:\n",
    "        changed = False\n",
    "        # forward step\n",
    "        excluded = list(set(X.columns) - set(included))\n",
    "        new_pval = pd.Series(index = excluded, dtype = 'float64')\n",
    "        for new_column in excluded:\n",
    "            model = sm.OLS(y, sm.add_constant(pd.DataFrame(X[included + [new_column]]))).fit()\n",
    "            new_pval[new_column] = model.pvalues[new_column]\n",
    "        best_pval = new_pval.min()\n",
    "        # we add the feature with the lowest (best) p-value under the threshold to our 'included' list\n",
    "        if best_pval < threshold_in:\n",
    "            best_feature = new_pval.idxmin()\n",
    "            included.append(best_feature)\n",
    "            changed = True\n",
    "            if verbose:\n",
    "                print('Add  {:30} with p-value {:.6}'.format(best_feature, best_pval)) # specifying the verbose text\n",
    "\n",
    "\n",
    "        # backward step: removing features if new features added to the list make them statistically insignificant\n",
    "        model = sm.OLS(y, sm.add_constant(pd.DataFrame(X[included]))).fit()\n",
    "        \n",
    "        # use all coefs except intercept\n",
    "        pvalues = model.pvalues.iloc[1:]\n",
    "        worst_pval = pvalues.max() # null if pvalues is empty\n",
    "        # if the p-value exceeds the upper threshold, the feature will be dropped from the 'included' list\n",
    "        if worst_pval > threshold_out:\n",
    "            changed = True\n",
    "            worst_feature = pvalues.idxmax()\n",
    "            included.remove(worst_feature)\n",
    "            if verbose:\n",
    "                print('Drop {:30} with p-value {:.6}'.format(worst_feature, worst_pval))\n",
    "        if not changed:\n",
    "            break\n",
    "    return included"
   ]
  },
  {
   "cell_type": "code",
   "execution_count": 19,
   "id": "92402a50-113f-4657-9a4a-2ca1f3930f7e",
   "metadata": {},
   "outputs": [
    {
     "name": "stdout",
     "output_type": "stream",
     "text": [
      "Add  log_GDP                        with p-value 0.0\n",
      "Add  Under_five_deaths              with p-value 0.0\n",
      "Add  Adult_mortality                with p-value 0.0\n",
      "Add  Economy_status_Developing      with p-value 7.3162e-60\n",
      "Add  Economy_status_Developed       with p-value 0.0\n",
      "Add  Region_Central America and Caribbean with p-value 1.73497e-43\n",
      "Add  Region_South America           with p-value 8.86468e-33\n",
      "Add  Region_Oceania                 with p-value 2.5627e-26\n",
      "Add  Region_European Union          with p-value 3.14928e-24\n",
      "Add  Infant_deaths                  with p-value 1.63493e-14\n",
      "Add  Schooling                      with p-value 6.70252e-08\n",
      "Add  BMI                            with p-value 6.56748e-13\n",
      "Add  Year                           with p-value 6.16713e-08\n",
      "Add  Hepatitis_B                    with p-value 0.000648365\n",
      "Add  Incidents_HIV                  with p-value 0.000316316\n",
      "Add  GDP_per_capita                 with p-value 0.00722397\n",
      "resulting features:\n",
      "['log_GDP', 'Under_five_deaths', 'Adult_mortality', 'Economy_status_Developing', 'Economy_status_Developed', 'Region_Central America and Caribbean', 'Region_South America', 'Region_Oceania', 'Region_European Union', 'Infant_deaths', 'Schooling', 'BMI', 'Year', 'Hepatitis_B', 'Incidents_HIV', 'GDP_per_capita']\n"
     ]
    }
   ],
   "source": [
    "result = stepwise_selection(X_train_fe[['Year', 'Infant_deaths', 'Under_five_deaths',\n",
    "       'Adult_mortality', 'Alcohol_consumption', 'Hepatitis_B', 'Measles',\n",
    "       'BMI', 'Polio', 'Diphtheria', 'Incidents_HIV', 'GDP_per_capita',\n",
    "       'Population_mln', 'Thinness_ten_nineteen_years',\n",
    "       'Thinness_five_nine_years', 'Schooling', 'Economy_status_Developed',\n",
    "       'Economy_status_Developing', 'Region_Asia',\n",
    "       'Region_Central America and Caribbean', 'Region_European Union',\n",
    "       'Region_Middle East', 'Region_North America', 'Region_Oceania',\n",
    "       'Region_Rest of Europe', 'Region_South America', 'log_GDP', 'immunisation_avg']], y_train)\n",
    "\n",
    "print('resulting features:')\n",
    "print(result)"
   ]
  },
  {
   "cell_type": "markdown",
   "id": "32401d44-82a0-428c-8586-91cc7b839cca",
   "metadata": {},
   "source": [
    "## 3.3: Lasso"
   ]
  },
  {
   "cell_type": "markdown",
   "id": "0f8df731-78fd-4b36-a7e6-2ce80d9253e4",
   "metadata": {
    "jp-MarkdownHeadingCollapsed": true
   },
   "source": [
    "#### Key findings of lasso:\n",
    "* Region coefficients all shrank, in most cases to less than half of their OLS values\n",
    "* GDP-related coefficients all increased\n",
    "\n",
    "> This indicates that the model currently relies too heavily on regional labels to predict life expectancy. By using lasso as a form of regularisation, we can reduce this memorisation of regions, resulting in a model that can generalise better with new data."
   ]
  },
  {
   "cell_type": "code",
   "execution_count": 20,
   "id": "68442f6f-aeca-4d6a-9cec-ed1208115226",
   "metadata": {},
   "outputs": [
    {
     "name": "stdout",
     "output_type": "stream",
     "text": [
      "Selected features: ['Schooling', 'Adult_mortality', 'Under_five_deaths', 'Economy_status_Developing', 'Region_Central America and Caribbean', 'Region_South America', 'GDP_per_capita', 'Region_Oceania', 'Region_European Union', 'Year', 'log_GDP', 'BMI', 'Incidents_HIV', 'Region_Rest of Europe', 'Region_North America']\n",
      "Schooling: 0.3725079113332776\n",
      "Adult_mortality: -5.3505140407294\n",
      "Under_five_deaths: -3.4461360447527514\n",
      "Economy_status_Developing: -2.0755489771301368\n",
      "Region_Central America and Caribbean: 1.6311290835455194\n",
      "Region_South America: 1.3044469873876074\n",
      "GDP_per_capita: 0.17800774768968455\n",
      "Region_Oceania: -0.763701903572521\n",
      "Region_European Union: -0.3938499071842748\n",
      "Year: 0.13724523560099414\n",
      "log_GDP: 0.5187940902279401\n",
      "BMI: -0.3053088069437367\n",
      "Incidents_HIV: 0.12479901736999326\n",
      "Region_Rest of Europe: 0.23857402022518936\n",
      "Region_North America: 0.27255463085942655\n"
     ]
    }
   ],
   "source": [
    "# lasso is another feature selection method which takes into account the VIF and p-values for features. The result of this are the features used in our optimised model\n",
    "lasso = LassoCV(cv=5)\n",
    "lasso.fit(X_train_fe[['Schooling', 'Adult_mortality', 'Under_five_deaths', 'Economy_status_Developing', 'Region_Central America and Caribbean', 'Region_South America', 'GDP_per_capita', 'Region_Oceania', 'Region_European Union', 'Year', 'log_GDP', 'BMI', 'Incidents_HIV', 'Region_Rest of Europe', 'Region_North America']], y_train)\n",
    "print(f'Selected features: {X_train_fe[['Schooling', 'Adult_mortality', 'Under_five_deaths', 'Economy_status_Developing', 'Region_Central America and Caribbean', 'Region_South America', 'GDP_per_capita', 'Region_Oceania', 'Region_European Union', 'Year', 'log_GDP', 'BMI', 'Incidents_HIV', 'Region_Rest of Europe', 'Region_North America']].columns[lasso.coef_ != 0].tolist()}')\n",
    "\n",
    "\n",
    "mask = lasso.coef_ != 0\n",
    "\n",
    "# Get the selected feature names\n",
    "selected_features = X_train_fe[['Schooling', 'Adult_mortality', 'Under_five_deaths', 'Economy_status_Developing', 'Region_Central America and Caribbean', 'Region_South America', 'GDP_per_capita', 'Region_Oceania', 'Region_European Union', 'Year', 'log_GDP', 'BMI', 'Incidents_HIV', 'Region_Rest of Europe', 'Region_North America']].columns[mask]\n",
    "\n",
    "# Get the corresponding non-zero coefficients\n",
    "selected_coefs = lasso.coef_[mask]\n",
    "\n",
    "# Pair them up\n",
    "for name, coef in zip(selected_features, selected_coefs):\n",
    "    print(f\"{name}: {coef}\")"
   ]
  },
  {
   "cell_type": "markdown",
   "id": "807ce80d-3571-467e-b030-c68bda070784",
   "metadata": {},
   "source": [
    "# 4: Limited Model"
   ]
  },
  {
   "cell_type": "markdown",
   "id": "5ac29bc4-58a9-4b60-a09f-1bb2604ad861",
   "metadata": {},
   "source": [
    "## 4.1: Feature Selection"
   ]
  },
  {
   "cell_type": "code",
   "execution_count": 132,
   "id": "25be37f6-8bd6-4ace-84d3-68d25f263c9b",
   "metadata": {
    "jupyter": {
     "source_hidden": true
    }
   },
   "outputs": [],
   "source": [
    "df = pd.read_csv(\"Life Expectancy Data.csv\")         # re-initialise the dataframe"
   ]
  },
  {
   "cell_type": "markdown",
   "id": "20607537-a749-4513-b0e4-6383195658c3",
   "metadata": {},
   "source": [
    "#### Data-independent feature engineering\n",
    "* OHE Region\n",
    "\n",
    "#### Model features:\n",
    "* Year\n",
    "* Region\n",
    "* Under_five_deaths\n",
    "* Adult_mortality\n",
    "* GDP_per_capita\n",
    "* Economy_status_Developing\n",
    "\n",
    "#### Selected using:\n",
    "* **Ethical considerations**:\n",
    "    * Use the least metrics possible to train a model still worth using\n",
    "    * We wanted to avoid using `medical data/records` as much as possible\n",
    "    * `BMI` and `Incidents_HIV` removed relating to medical concerns\n",
    "    * `Schooling` removed for socioeconomic reasons that may be defamatory"
   ]
  },
  {
   "cell_type": "code",
   "execution_count": 133,
   "id": "ff5efe67-4a06-4ec7-8651-9be736559d51",
   "metadata": {
    "jupyter": {
     "source_hidden": true
    }
   },
   "outputs": [],
   "source": [
    "df = pd.get_dummies(df, columns = ['Region'], drop_first = True, prefix = 'Region', dtype = int) # OHE the region column\n",
    "\n",
    "feature_cols = [ 'Year',\n",
    "                 'Region_Asia',\n",
    "                 'Region_Central America and Caribbean',\n",
    "                 'Region_European Union',\n",
    "                 'Region_Middle East',\n",
    "                 'Region_North America',\n",
    "                 'Region_Oceania',\n",
    "                 'Region_Rest of Europe',\n",
    "                 'Region_South America',\n",
    "                 'Under_five_deaths',\n",
    "                 'Adult_mortality',\n",
    "                 'GDP_per_capita',\n",
    "                 'Economy_status_Developing']"
   ]
  },
  {
   "cell_type": "code",
   "execution_count": 134,
   "id": "0b5c4677-bc98-4241-84af-21bf580aa19f",
   "metadata": {
    "jupyter": {
     "source_hidden": true
    }
   },
   "outputs": [],
   "source": [
    "# X represents our features, y represents our target\n",
    "X = df[feature_cols]\n",
    "X = sm.add_constant(X) # don't forget to add the constant\n",
    "y = df.Life_expectancy"
   ]
  },
  {
   "cell_type": "markdown",
   "id": "e7c53e2c-030b-4946-b5ce-6266151d61b2",
   "metadata": {},
   "source": [
    "## 4.2 Redo the Test-Train Split"
   ]
  },
  {
   "cell_type": "code",
   "execution_count": 101,
   "id": "b6cc3fdd-73dc-4a09-acd2-c328672dac8c",
   "metadata": {
    "jupyter": {
     "source_hidden": true
    }
   },
   "outputs": [],
   "source": [
    "# split using the same split and state as before\n",
    "X_train, X_test, y_train, y_test = train_test_split(X, y, test_size = 0.2, random_state = 42)"
   ]
  },
  {
   "cell_type": "markdown",
   "id": "ac8b6f70-2976-4054-a196-9f61bd7533fd",
   "metadata": {},
   "source": [
    "## 4.3: Feature Engineering"
   ]
  },
  {
   "cell_type": "markdown",
   "id": "105ab882-49af-411d-8d86-0d5a9a621925",
   "metadata": {},
   "source": [
    "#### Data-dependent feature engineering\n",
    "* Scaling `(E.g. MinMax scaling)`\n",
    "\n"
   ]
  },
  {
   "cell_type": "code",
   "execution_count": 102,
   "id": "aa162687-85ef-426d-9696-bea4d722ea40",
   "metadata": {
    "jupyter": {
     "source_hidden": true
    }
   },
   "outputs": [],
   "source": [
    "# below are the features used for our limited model\n",
    "scale_cols = [ 'Year', 'Under_five_deaths', 'Adult_mortality', 'GDP_per_capita', 'Economy_status_Developing']\n",
    "scaler = MinMaxScaler() # minmax scaler provided the best results for this model\n",
    "scaler.fit(X_train[scale_cols]) # fit the scaler values on the TRAINING data\n",
    "joblib.dump(scaler, 'limited_scaler.pkl') # saved the scaler to a file for our function notebook\n",
    "\n",
    "def feature_eng(df, scaler, scale_cols):\n",
    "    df = df.copy()\n",
    "    df[scale_cols] = scaler.transform(df[scale_cols])\n",
    "    df = sm.add_constant(df)\n",
    "    return df"
   ]
  },
  {
   "cell_type": "code",
   "execution_count": 103,
   "id": "6e75932d-33d0-499d-bfef-6f5f3a02d8d2",
   "metadata": {
    "jupyter": {
     "source_hidden": true
    }
   },
   "outputs": [],
   "source": [
    "X_train = feature_eng(X_train, scaler, scale_cols) # apply the training scaler to the train features\n",
    "X_test = feature_eng(X_test, scaler, scale_cols) # apply the testing scaler to the test features"
   ]
  },
  {
   "cell_type": "markdown",
   "id": "c8ee885e-9b96-4253-9b20-28d4bec85641",
   "metadata": {},
   "source": [
    "## 4.4: Fitting the Model"
   ]
  },
  {
   "cell_type": "markdown",
   "id": "1970ef40-430f-491c-b592-86a2c2d874f0",
   "metadata": {},
   "source": [
    "#### Model Results:\n",
    "* High R^2 of 0.983\n",
    "* Low relative AIC and BIC\n",
    "* Low condition number of 21.9"
   ]
  },
  {
   "cell_type": "code",
   "execution_count": 104,
   "id": "0b6bb855-ef5c-409a-99cc-e25cd9dc77b2",
   "metadata": {
    "jupyter": {
     "source_hidden": true
    }
   },
   "outputs": [
    {
     "data": {
      "text/html": [
       "<table class=\"simpletable\">\n",
       "<caption>OLS Regression Results</caption>\n",
       "<tr>\n",
       "  <th>Dep. Variable:</th>     <td>Life_expectancy</td> <th>  R-squared:         </th> <td>   0.983</td> \n",
       "</tr>\n",
       "<tr>\n",
       "  <th>Model:</th>                   <td>OLS</td>       <th>  Adj. R-squared:    </th> <td>   0.983</td> \n",
       "</tr>\n",
       "<tr>\n",
       "  <th>Method:</th>             <td>Least Squares</td>  <th>  F-statistic:       </th> <td>1.014e+04</td>\n",
       "</tr>\n",
       "<tr>\n",
       "  <th>Date:</th>             <td>Mon, 14 Jul 2025</td> <th>  Prob (F-statistic):</th>  <td>  0.00</td>  \n",
       "</tr>\n",
       "<tr>\n",
       "  <th>Time:</th>                 <td>14:56:11</td>     <th>  Log-Likelihood:    </th> <td> -3734.2</td> \n",
       "</tr>\n",
       "<tr>\n",
       "  <th>No. Observations:</th>      <td>  2291</td>      <th>  AIC:               </th> <td>   7496.</td> \n",
       "</tr>\n",
       "<tr>\n",
       "  <th>Df Residuals:</th>          <td>  2277</td>      <th>  BIC:               </th> <td>   7577.</td> \n",
       "</tr>\n",
       "<tr>\n",
       "  <th>Df Model:</th>              <td>    13</td>      <th>                     </th>     <td> </td>    \n",
       "</tr>\n",
       "<tr>\n",
       "  <th>Covariance Type:</th>      <td>nonrobust</td>    <th>                     </th>     <td> </td>    \n",
       "</tr>\n",
       "</table>\n",
       "<table class=\"simpletable\">\n",
       "<tr>\n",
       "                    <td></td>                      <th>coef</th>     <th>std err</th>      <th>t</th>      <th>P>|t|</th>  <th>[0.025</th>    <th>0.975]</th>  \n",
       "</tr>\n",
       "<tr>\n",
       "  <th>const</th>                                <td>   80.1342</td> <td>    0.210</td> <td>  382.080</td> <td> 0.000</td> <td>   79.723</td> <td>   80.545</td>\n",
       "</tr>\n",
       "<tr>\n",
       "  <th>Year</th>                                 <td>    0.4970</td> <td>    0.088</td> <td>    5.670</td> <td> 0.000</td> <td>    0.325</td> <td>    0.669</td>\n",
       "</tr>\n",
       "<tr>\n",
       "  <th>Region_Asia</th>                          <td>    0.3626</td> <td>    0.101</td> <td>    3.582</td> <td> 0.000</td> <td>    0.164</td> <td>    0.561</td>\n",
       "</tr>\n",
       "<tr>\n",
       "  <th>Region_Central America and Caribbean</th> <td>    1.9026</td> <td>    0.118</td> <td>   16.119</td> <td> 0.000</td> <td>    1.671</td> <td>    2.134</td>\n",
       "</tr>\n",
       "<tr>\n",
       "  <th>Region_European Union</th>                <td>   -0.6891</td> <td>    0.174</td> <td>   -3.962</td> <td> 0.000</td> <td>   -1.030</td> <td>   -0.348</td>\n",
       "</tr>\n",
       "<tr>\n",
       "  <th>Region_Middle East</th>                   <td>    0.0992</td> <td>    0.133</td> <td>    0.746</td> <td> 0.456</td> <td>   -0.161</td> <td>    0.360</td>\n",
       "</tr>\n",
       "<tr>\n",
       "  <th>Region_North America</th>                 <td>    0.6788</td> <td>    0.228</td> <td>    2.978</td> <td> 0.003</td> <td>    0.232</td> <td>    1.126</td>\n",
       "</tr>\n",
       "<tr>\n",
       "  <th>Region_Oceania</th>                       <td>   -1.1276</td> <td>    0.132</td> <td>   -8.521</td> <td> 0.000</td> <td>   -1.387</td> <td>   -0.868</td>\n",
       "</tr>\n",
       "<tr>\n",
       "  <th>Region_Rest of Europe</th>                <td>    0.4962</td> <td>    0.130</td> <td>    3.820</td> <td> 0.000</td> <td>    0.241</td> <td>    0.751</td>\n",
       "</tr>\n",
       "<tr>\n",
       "  <th>Region_South America</th>                 <td>    1.7102</td> <td>    0.130</td> <td>   13.136</td> <td> 0.000</td> <td>    1.455</td> <td>    1.966</td>\n",
       "</tr>\n",
       "<tr>\n",
       "  <th>Under_five_deaths</th>                    <td>  -18.8613</td> <td>    0.248</td> <td>  -75.956</td> <td> 0.000</td> <td>  -19.348</td> <td>  -18.374</td>\n",
       "</tr>\n",
       "<tr>\n",
       "  <th>Adult_mortality</th>                      <td>  -28.6620</td> <td>    0.272</td> <td> -105.212</td> <td> 0.000</td> <td>  -29.196</td> <td>  -28.128</td>\n",
       "</tr>\n",
       "<tr>\n",
       "  <th>GDP_per_capita</th>                       <td>    3.0448</td> <td>    0.266</td> <td>   11.465</td> <td> 0.000</td> <td>    2.524</td> <td>    3.566</td>\n",
       "</tr>\n",
       "<tr>\n",
       "  <th>Economy_status_Developing</th>            <td>   -3.0186</td> <td>    0.161</td> <td>  -18.708</td> <td> 0.000</td> <td>   -3.335</td> <td>   -2.702</td>\n",
       "</tr>\n",
       "</table>\n",
       "<table class=\"simpletable\">\n",
       "<tr>\n",
       "  <th>Omnibus:</th>       <td>44.454</td> <th>  Durbin-Watson:     </th> <td>   2.036</td>\n",
       "</tr>\n",
       "<tr>\n",
       "  <th>Prob(Omnibus):</th> <td> 0.000</td> <th>  Jarque-Bera (JB):  </th> <td>  62.147</td>\n",
       "</tr>\n",
       "<tr>\n",
       "  <th>Skew:</th>          <td> 0.222</td> <th>  Prob(JB):          </th> <td>3.20e-14</td>\n",
       "</tr>\n",
       "<tr>\n",
       "  <th>Kurtosis:</th>      <td> 3.673</td> <th>  Cond. No.          </th> <td>    21.9</td>\n",
       "</tr>\n",
       "</table><br/><br/>Notes:<br/>[1] Standard Errors assume that the covariance matrix of the errors is correctly specified."
      ],
      "text/latex": [
       "\\begin{center}\n",
       "\\begin{tabular}{lclc}\n",
       "\\toprule\n",
       "\\textbf{Dep. Variable:}                        & Life\\_expectancy & \\textbf{  R-squared:         } &     0.983   \\\\\n",
       "\\textbf{Model:}                                &       OLS        & \\textbf{  Adj. R-squared:    } &     0.983   \\\\\n",
       "\\textbf{Method:}                               &  Least Squares   & \\textbf{  F-statistic:       } & 1.014e+04   \\\\\n",
       "\\textbf{Date:}                                 & Mon, 14 Jul 2025 & \\textbf{  Prob (F-statistic):} &     0.00    \\\\\n",
       "\\textbf{Time:}                                 &     14:56:11     & \\textbf{  Log-Likelihood:    } &   -3734.2   \\\\\n",
       "\\textbf{No. Observations:}                     &        2291      & \\textbf{  AIC:               } &     7496.   \\\\\n",
       "\\textbf{Df Residuals:}                         &        2277      & \\textbf{  BIC:               } &     7577.   \\\\\n",
       "\\textbf{Df Model:}                             &          13      & \\textbf{                     } &             \\\\\n",
       "\\textbf{Covariance Type:}                      &    nonrobust     & \\textbf{                     } &             \\\\\n",
       "\\bottomrule\n",
       "\\end{tabular}\n",
       "\\begin{tabular}{lcccccc}\n",
       "                                               & \\textbf{coef} & \\textbf{std err} & \\textbf{t} & \\textbf{P$> |$t$|$} & \\textbf{[0.025} & \\textbf{0.975]}  \\\\\n",
       "\\midrule\n",
       "\\textbf{const}                                 &      80.1342  &        0.210     &   382.080  &         0.000        &       79.723    &       80.545     \\\\\n",
       "\\textbf{Year}                                  &       0.4970  &        0.088     &     5.670  &         0.000        &        0.325    &        0.669     \\\\\n",
       "\\textbf{Region\\_Asia}                          &       0.3626  &        0.101     &     3.582  &         0.000        &        0.164    &        0.561     \\\\\n",
       "\\textbf{Region\\_Central America and Caribbean} &       1.9026  &        0.118     &    16.119  &         0.000        &        1.671    &        2.134     \\\\\n",
       "\\textbf{Region\\_European Union}                &      -0.6891  &        0.174     &    -3.962  &         0.000        &       -1.030    &       -0.348     \\\\\n",
       "\\textbf{Region\\_Middle East}                   &       0.0992  &        0.133     &     0.746  &         0.456        &       -0.161    &        0.360     \\\\\n",
       "\\textbf{Region\\_North America}                 &       0.6788  &        0.228     &     2.978  &         0.003        &        0.232    &        1.126     \\\\\n",
       "\\textbf{Region\\_Oceania}                       &      -1.1276  &        0.132     &    -8.521  &         0.000        &       -1.387    &       -0.868     \\\\\n",
       "\\textbf{Region\\_Rest of Europe}                &       0.4962  &        0.130     &     3.820  &         0.000        &        0.241    &        0.751     \\\\\n",
       "\\textbf{Region\\_South America}                 &       1.7102  &        0.130     &    13.136  &         0.000        &        1.455    &        1.966     \\\\\n",
       "\\textbf{Under\\_five\\_deaths}                   &     -18.8613  &        0.248     &   -75.956  &         0.000        &      -19.348    &      -18.374     \\\\\n",
       "\\textbf{Adult\\_mortality}                      &     -28.6620  &        0.272     &  -105.212  &         0.000        &      -29.196    &      -28.128     \\\\\n",
       "\\textbf{GDP\\_per\\_capita}                      &       3.0448  &        0.266     &    11.465  &         0.000        &        2.524    &        3.566     \\\\\n",
       "\\textbf{Economy\\_status\\_Developing}           &      -3.0186  &        0.161     &   -18.708  &         0.000        &       -3.335    &       -2.702     \\\\\n",
       "\\bottomrule\n",
       "\\end{tabular}\n",
       "\\begin{tabular}{lclc}\n",
       "\\textbf{Omnibus:}       & 44.454 & \\textbf{  Durbin-Watson:     } &    2.036  \\\\\n",
       "\\textbf{Prob(Omnibus):} &  0.000 & \\textbf{  Jarque-Bera (JB):  } &   62.147  \\\\\n",
       "\\textbf{Skew:}          &  0.222 & \\textbf{  Prob(JB):          } & 3.20e-14  \\\\\n",
       "\\textbf{Kurtosis:}      &  3.673 & \\textbf{  Cond. No.          } &     21.9  \\\\\n",
       "\\bottomrule\n",
       "\\end{tabular}\n",
       "%\\caption{OLS Regression Results}\n",
       "\\end{center}\n",
       "\n",
       "Notes: \\newline\n",
       " [1] Standard Errors assume that the covariance matrix of the errors is correctly specified."
      ],
      "text/plain": [
       "<class 'statsmodels.iolib.summary.Summary'>\n",
       "\"\"\"\n",
       "                            OLS Regression Results                            \n",
       "==============================================================================\n",
       "Dep. Variable:        Life_expectancy   R-squared:                       0.983\n",
       "Model:                            OLS   Adj. R-squared:                  0.983\n",
       "Method:                 Least Squares   F-statistic:                 1.014e+04\n",
       "Date:                Mon, 14 Jul 2025   Prob (F-statistic):               0.00\n",
       "Time:                        14:56:11   Log-Likelihood:                -3734.2\n",
       "No. Observations:                2291   AIC:                             7496.\n",
       "Df Residuals:                    2277   BIC:                             7577.\n",
       "Df Model:                          13                                         \n",
       "Covariance Type:            nonrobust                                         \n",
       "========================================================================================================\n",
       "                                           coef    std err          t      P>|t|      [0.025      0.975]\n",
       "--------------------------------------------------------------------------------------------------------\n",
       "const                                   80.1342      0.210    382.080      0.000      79.723      80.545\n",
       "Year                                     0.4970      0.088      5.670      0.000       0.325       0.669\n",
       "Region_Asia                              0.3626      0.101      3.582      0.000       0.164       0.561\n",
       "Region_Central America and Caribbean     1.9026      0.118     16.119      0.000       1.671       2.134\n",
       "Region_European Union                   -0.6891      0.174     -3.962      0.000      -1.030      -0.348\n",
       "Region_Middle East                       0.0992      0.133      0.746      0.456      -0.161       0.360\n",
       "Region_North America                     0.6788      0.228      2.978      0.003       0.232       1.126\n",
       "Region_Oceania                          -1.1276      0.132     -8.521      0.000      -1.387      -0.868\n",
       "Region_Rest of Europe                    0.4962      0.130      3.820      0.000       0.241       0.751\n",
       "Region_South America                     1.7102      0.130     13.136      0.000       1.455       1.966\n",
       "Under_five_deaths                      -18.8613      0.248    -75.956      0.000     -19.348     -18.374\n",
       "Adult_mortality                        -28.6620      0.272   -105.212      0.000     -29.196     -28.128\n",
       "GDP_per_capita                           3.0448      0.266     11.465      0.000       2.524       3.566\n",
       "Economy_status_Developing               -3.0186      0.161    -18.708      0.000      -3.335      -2.702\n",
       "==============================================================================\n",
       "Omnibus:                       44.454   Durbin-Watson:                   2.036\n",
       "Prob(Omnibus):                  0.000   Jarque-Bera (JB):               62.147\n",
       "Skew:                           0.222   Prob(JB):                     3.20e-14\n",
       "Kurtosis:                       3.673   Cond. No.                         21.9\n",
       "==============================================================================\n",
       "\n",
       "Notes:\n",
       "[1] Standard Errors assume that the covariance matrix of the errors is correctly specified.\n",
       "\"\"\""
      ]
     },
     "execution_count": 104,
     "metadata": {},
     "output_type": "execute_result"
    }
   ],
   "source": [
    "lin_reg = sm.OLS(y_train, X_train) # initialising the model object – remember, for sm it's y first and then X\n",
    "results = lin_reg.fit() # creating an object for the fitted model\n",
    "joblib.dump(results, 'limited_model.pkl')\n",
    "y_pred = results.predict(X_train) # adding our predictions back to the table\n",
    "results.summary()"
   ]
  },
  {
   "cell_type": "markdown",
   "id": "048b90a1-5f33-48d2-8689-d398b729e3d5",
   "metadata": {},
   "source": [
    "## 4.5: Testing Limited Model"
   ]
  },
  {
   "cell_type": "code",
   "execution_count": 106,
   "id": "6d4f3a7a-19bb-4c56-beda-1adf7c12e84d",
   "metadata": {
    "jupyter": {
     "source_hidden": true
    }
   },
   "outputs": [
    {
     "name": "stdout",
     "output_type": "stream",
     "text": [
      "Train RMSE: 1.235\n"
     ]
    }
   ],
   "source": [
    "print(f'Train RMSE: {round(statsmodels.tools.eval_measures.rmse(y_train, y_pred),3)}') # calculate the rmse from predicted and actual target values"
   ]
  },
  {
   "cell_type": "code",
   "execution_count": 108,
   "id": "e77d7acf-4f04-4c3f-81ce-20390e26a020",
   "metadata": {
    "jupyter": {
     "source_hidden": true
    }
   },
   "outputs": [
    {
     "name": "stdout",
     "output_type": "stream",
     "text": [
      "Test RMSE: 1.247\n"
     ]
    }
   ],
   "source": [
    "y_test_pred = results.predict(X_test) # predict for the test data\n",
    "rmse = statsmodels.tools.eval_measures.rmse(y_test, y_test_pred) # calculate the rmse from predicted and actual target values of the test data\n",
    "print(f'Test RMSE: {round(rmse,3)}', )"
   ]
  }
 ],
 "metadata": {
  "kernelspec": {
   "display_name": "Python [conda env:base] *",
   "language": "python",
   "name": "conda-base-py"
  },
  "language_info": {
   "codemirror_mode": {
    "name": "ipython",
    "version": 3
   },
   "file_extension": ".py",
   "mimetype": "text/x-python",
   "name": "python",
   "nbconvert_exporter": "python",
   "pygments_lexer": "ipython3",
   "version": "3.12.7"
  }
 },
 "nbformat": 4,
 "nbformat_minor": 5
}
