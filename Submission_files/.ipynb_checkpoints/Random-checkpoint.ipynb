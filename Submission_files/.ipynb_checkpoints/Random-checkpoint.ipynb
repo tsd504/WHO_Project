{
 "cells": [
  {
   "cell_type": "code",
   "execution_count": 1,
   "id": "cbec5fb6-6ba3-42f1-935e-d17bd59bc515",
   "metadata": {},
   "outputs": [],
   "source": [
    "import numpy as np\n",
    "import seaborn as sns\n",
    "import matplotlib.pyplot as plt\n",
    "import pandas as pd"
   ]
  },
  {
   "cell_type": "code",
   "execution_count": 2,
   "id": "2fcc8815-d7f0-4d3f-b361-42f8001c43f6",
   "metadata": {},
   "outputs": [],
   "source": [
    "df = pd.read_csv(\"Life Expectancy Data.csv\")"
   ]
  },
  {
   "cell_type": "code",
   "execution_count": 7,
   "id": "45a58305-3c1a-4ec7-857a-719c93df66fe",
   "metadata": {},
   "outputs": [
    {
     "data": {
      "text/html": [
       "<div>\n",
       "<style scoped>\n",
       "    .dataframe tbody tr th:only-of-type {\n",
       "        vertical-align: middle;\n",
       "    }\n",
       "\n",
       "    .dataframe tbody tr th {\n",
       "        vertical-align: top;\n",
       "    }\n",
       "\n",
       "    .dataframe thead th {\n",
       "        text-align: right;\n",
       "    }\n",
       "</style>\n",
       "<table border=\"1\" class=\"dataframe\">\n",
       "  <thead>\n",
       "    <tr style=\"text-align: right;\">\n",
       "      <th></th>\n",
       "      <th>Region</th>\n",
       "      <th>Year</th>\n",
       "      <th>Under_five_deaths</th>\n",
       "      <th>Adult_mortality</th>\n",
       "      <th>BMI</th>\n",
       "      <th>Incidents_HIV</th>\n",
       "      <th>GDP_per_capita</th>\n",
       "      <th>Schooling</th>\n",
       "      <th>Economy_status_Developing</th>\n",
       "      <th>Life_expectancy</th>\n",
       "    </tr>\n",
       "  </thead>\n",
       "  <tbody>\n",
       "    <tr>\n",
       "      <th>2826</th>\n",
       "      <td>Central America and Caribbean</td>\n",
       "      <td>2002</td>\n",
       "      <td>97.3</td>\n",
       "      <td>303.7545</td>\n",
       "      <td>23.5</td>\n",
       "      <td>1.37</td>\n",
       "      <td>1281</td>\n",
       "      <td>4.0</td>\n",
       "      <td>1</td>\n",
       "      <td>57.7</td>\n",
       "    </tr>\n",
       "  </tbody>\n",
       "</table>\n",
       "</div>"
      ],
      "text/plain": [
       "                             Region  Year  Under_five_deaths  Adult_mortality  \\\n",
       "2826  Central America and Caribbean  2002               97.3         303.7545   \n",
       "\n",
       "       BMI  Incidents_HIV  GDP_per_capita  Schooling  \\\n",
       "2826  23.5           1.37            1281        4.0   \n",
       "\n",
       "      Economy_status_Developing  Life_expectancy  \n",
       "2826                          1             57.7  "
      ]
     },
     "execution_count": 7,
     "metadata": {},
     "output_type": "execute_result"
    }
   ],
   "source": [
    "df[['Region', 'Year', 'Under_five_deaths', 'Adult_mortality', 'BMI',\n",
    "            'Incidents_HIV', 'GDP_per_capita', 'Schooling', 'Economy_status_Developing', 'Life_expectancy']].sample(n=1)"
   ]
  },
  {
   "cell_type": "code",
   "execution_count": null,
   "id": "761a6797-7197-4a09-af14-f44bf11a2c60",
   "metadata": {},
   "outputs": [],
   "source": []
  }
 ],
 "metadata": {
  "kernelspec": {
   "display_name": "Python [conda env:base] *",
   "language": "python",
   "name": "conda-base-py"
  },
  "language_info": {
   "codemirror_mode": {
    "name": "ipython",
    "version": 3
   },
   "file_extension": ".py",
   "mimetype": "text/x-python",
   "name": "python",
   "nbconvert_exporter": "python",
   "pygments_lexer": "ipython3",
   "version": "3.12.7"
  }
 },
 "nbformat": 4,
 "nbformat_minor": 5
}
