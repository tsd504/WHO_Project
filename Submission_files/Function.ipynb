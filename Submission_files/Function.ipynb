{
 "cells": [
  {
   "cell_type": "code",
   "execution_count": 9,
   "id": "f35a9ec1-1773-4281-801e-95dc106c9925",
   "metadata": {},
   "outputs": [
    {
     "name": "stdin",
     "output_type": "stream",
     "text": [
      "Do you consent to using advanced population data, which may include protected information, for better accuracy? (Y/N) N\n"
     ]
    },
    {
     "name": "stdout",
     "output_type": "stream",
     "text": [
      "Thank you, you have NOT given consent - a minimalist model will be used which may be less accurate and robust.\n",
      "\n",
      "Please enter the following values:\n",
      "\n"
     ]
    },
    {
     "name": "stdin",
     "output_type": "stream",
     "text": [
      "Region:  gh\n"
     ]
    },
    {
     "name": "stdout",
     "output_type": "stream",
     "text": [
      "Invalid input: Valid regions include 'Asia', 'Central America and Caribbean', 'European Union', 'Middle East', 'North America', 'Oceania', 'Rest of Europe', 'South America' [case-sensitive]\n"
     ]
    },
    {
     "name": "stdin",
     "output_type": "stream",
     "text": [
      "Region:  2\n"
     ]
    },
    {
     "name": "stdout",
     "output_type": "stream",
     "text": [
      "Invalid input: Valid regions include 'Asia', 'Central America and Caribbean', 'European Union', 'Middle East', 'North America', 'Oceania', 'Rest of Europe', 'South America' [case-sensitive]\n"
     ]
    },
    {
     "name": "stdin",
     "output_type": "stream",
     "text": [
      "Region:  Asia\n",
      "Year:  -1\n"
     ]
    },
    {
     "name": "stdout",
     "output_type": "stream",
     "text": [
      "Invalid input: Year must be a value between 2000 and 2100 (inclusive).\n"
     ]
    },
    {
     "name": "stdin",
     "output_type": "stream",
     "text": [
      "Year:  2015\n",
      "Under_five_deaths:  -1\n"
     ]
    },
    {
     "name": "stdout",
     "output_type": "stream",
     "text": [
      "Invalid input: Under_five_deaths must be a value between 0 and 300 (inclusive).\n"
     ]
    },
    {
     "name": "stdin",
     "output_type": "stream",
     "text": [
      "Under_five_deaths:  25\n",
      "Adult_mortality:  -1\n"
     ]
    },
    {
     "name": "stdout",
     "output_type": "stream",
     "text": [
      "Invalid input: Adult_mortality must be a value between 0 and 800 (inclusive).\n"
     ]
    },
    {
     "name": "stdin",
     "output_type": "stream",
     "text": [
      "Adult_mortality:  56\n",
      "GDP_per_capita:  0\n"
     ]
    },
    {
     "name": "stdout",
     "output_type": "stream",
     "text": [
      "Invalid input: GDP_per_capita must be a value between 0 and 250,000 (right-inclusive).\n"
     ]
    },
    {
     "name": "stdin",
     "output_type": "stream",
     "text": [
      "GDP_per_capita:  25000\n",
      "Economy_status_Developing:  -1\n"
     ]
    },
    {
     "name": "stdout",
     "output_type": "stream",
     "text": [
      "Invalid input: Economy_status_Developing must be 0 or 1. [0 = Developed, 1 = Developing]\n"
     ]
    },
    {
     "name": "stdin",
     "output_type": "stream",
     "text": [
      "Economy_status_Developing:  0\n"
     ]
    },
    {
     "name": "stdout",
     "output_type": "stream",
     "text": [
      "79.45445299798092\n"
     ]
    }
   ],
   "source": [
    "import numpy as np\n",
    "import pandas as pd\n",
    "import joblib\n",
    "\n",
    "# key python concepts that we used in this code include:\n",
    "# try excpetions          LINK: https://docs.python.org/3/tutorial/errors.html\n",
    "# f-strings               LINK: https://docs.python.org/3/tutorial/inputoutput.html\n",
    "# list comprehension      LINK: https://www.w3schools.com/python/python_lists_comprehension.asp\n",
    "# several string methods  LINK: https://www.w3schools.com/python/python_ref_string.asp\n",
    "# joblib                  LINK: https://www.analyticsvidhya.com/blog/2023/02/how-to-save-and-load-machine-learning-models-in-python-using-joblib-library/\n",
    "\n",
    "def final_function_to_predict():\n",
    "    \n",
    "    # While loop which asks for consent until a user exits or responds\n",
    "    while True:\n",
    "        consent = input(\"Do you consent to using advanced population data, which may include protected information, for better accuracy? (Y/N)\").strip().upper() # .upper() allows a user to type y or n / .strip() removes any extra spaces\n",
    "        if consent in [\"Y\", \"N\"]:\n",
    "            break # exit the while loop if input is valid\n",
    "        else:\n",
    "            print(\"Invalid input: Input should be either Y or N\") # else tell the user the correct selection of inputs\n",
    "\n",
    "    # list of valid regions. Necessary since one model doesn't use all regions but an input of Asia is still valid\n",
    "    all_regions = [\n",
    "        'Region_Asia',\n",
    "        'Region_Central America and Caribbean',\n",
    "        'Region_European Union',\n",
    "        'Region_Middle East',\n",
    "        'Region_North America',\n",
    "        'Region_Oceania',\n",
    "        'Region_Rest of Europe',\n",
    "        'Region_South America'\n",
    "    ]\n",
    "\n",
    "    if consent == \"Y\": # if consent was given we use this optimised model\n",
    "        print('Thank you, you have given consent for advanced population data.')\n",
    "\n",
    "        model_columns = [ # we initialise a list that contains the features and dimensions that our model expects (e.g. including OHE column names)\n",
    "            'const', 'Year', 'Under_five_deaths', 'Adult_mortality', 'BMI',\n",
    "            'Incidents_HIV', 'GDP_per_capita', 'Schooling', 'Economy_status_Developing',\n",
    "            'Region_Central America and Caribbean', 'Region_European Union',\n",
    "            'Region_North America', 'Region_Oceania', 'Region_Rest of Europe',\n",
    "            'Region_South America', 'log_GDP'\n",
    "        ]\n",
    "        \n",
    "        input_features = [ # these are the columns that the user actually needs to input (we then transform this into the list above)\n",
    "            'Region', 'Year', 'Under_five_deaths', 'Adult_mortality', 'BMI',\n",
    "            'Incidents_HIV', 'GDP_per_capita', 'Schooling', 'Economy_status_Developing'\n",
    "        ]\n",
    "\n",
    "        row_data = {col: 0 for col in model_columns} # create a dictionary to store the features and the inputted values, set to 0 by default\n",
    "        row_data['const'] = 1 # const is always 1\n",
    "        # row_data looks like {'const': 1, 'Year': 0, ... }\n",
    "\n",
    "        print(\"\\nPlease enter the following values:\\n\")\n",
    "\n",
    "        for feature in input_features: # loops through each feature that needs to be input for the model\n",
    "            while True: # repeats the same feature request until a valid input is entered, signified by 'break' statement\n",
    "                val = input(f\"{feature}: \").strip() # for each feature, val variable is temporarily set to the input value and stripped of spaces\n",
    "                \n",
    "                # region requires more validation\n",
    "                if feature == 'Region':\n",
    "                    region_col = f\"Region_{val}\" # OHE region column names are Region_{name}\n",
    "                    if region_col in all_regions: # checks if the input is valid regardless of if it's a column\n",
    "                        if region_col in model_columns: # if yes, we check if it's a column we need\n",
    "                            row_data[region_col] = 1 # if yes, we set that columns value to 1\n",
    "                        break # regardless of if needed or not, we move on to the next feature\n",
    "                    else:\n",
    "                        print(\"Invalid input: Valid regions include 'Asia', 'Central America and Caribbean', 'European Union', 'Middle East', 'North America', 'Oceania', 'Rest of Europe', 'South America' [case-sensitive]\") # if the input isn't valid, provide the expected selection\n",
    "                \n",
    "                # currently year must be a positive number. we can easily set a different range       \n",
    "                elif feature == 'Year':\n",
    "                    try:\n",
    "                        year = int(val) # try to change input to int, throw a value error if this isn't possible\n",
    "                        if year >= 2000 and year <= 2100: # check that year is between 2000 and 2100\n",
    "                            row_data['Year'] = year\n",
    "                            break\n",
    "                        else:\n",
    "                            print(\"Invalid input: Year must be a value between 2000 and 2100 (inclusive).\") # if the input is a number but fails this check, tell the user the required range\n",
    "                    except ValueError:\n",
    "                        print(\"Invalid input: Year must be an integer.\") # we expect year to be a whole number\n",
    "\n",
    "                elif feature == 'Under_five_deaths':\n",
    "                    try:\n",
    "                        ufd = float(val) # try to change input to float, throw a value error if this isn't possible\n",
    "                        if ufd >= 0 and ufd <= 300: # check that under_five_deaths is in range.\n",
    "                            row_data['Under_five_deaths'] = ufd\n",
    "                            break\n",
    "                        else:\n",
    "                            print(\"Invalid input: Under_five_deaths must be a value between 0 and 300 (inclusive).\") # if the input is a number but fails this check, tell the user the required range\n",
    "                    except ValueError:\n",
    "                        print(\"Invalid input: Under_five_deaths must be a number.\") # we expect under_five_deaths to be a number\n",
    "\n",
    "                elif feature == 'Adult_mortality':\n",
    "                    try:\n",
    "                        adu_mort = float(val) # try to change input to float, throw a value error if this isn't possible\n",
    "                        if adu_mort >= 0 and adu_mort <= 800: # check that adult_mortality is in range\n",
    "                            row_data['Adult_mortality'] = adu_mort\n",
    "                            break\n",
    "                        else:\n",
    "                            print(\"Invalid input: Adult_mortality must be a value between 0 and 800 (inclusive).\") # if the input is a number but fails this check, tell the user the required range\n",
    "                    except ValueError:\n",
    "                        print(\"Invalid input: Adult_mortality must be a number.\") # we expect adult_mortality to be a number\n",
    "\n",
    "                elif feature == 'BMI':\n",
    "                    try:\n",
    "                        bmi = float(val) # try to change input to float, throw a value error if this isn't possible\n",
    "                        if bmi >= 10 and bmi <= 40: # check that BMI is in range\n",
    "                            row_data['BMI'] = bmi\n",
    "                            break\n",
    "                        else:\n",
    "                            print(\"Invalid input: BMI must be a value between 10 and 40 (inclusive).\") # if the input is a number but fails this check, tell the user the required range\n",
    "                    except ValueError:\n",
    "                        print(\"Invalid input: BMI must be a number.\") # we expect BMI to be a number\n",
    "\n",
    "                elif feature == 'Incidents_HIV':\n",
    "                    try:\n",
    "                        hiv = float(val) # try to change input to float, throw a value error if this isn't possible\n",
    "                        if hiv >= 0 and hiv <= 50: # check that incidents_HIV is in range\n",
    "                            row_data['Incidents_HIV'] = hiv\n",
    "                            break\n",
    "                        else:\n",
    "                            print(\"Invalid input: Incidents_HIV must be a value between 0 and 50 (inclusive).\") # if the input is a number but fails this check, tell the user the required range\n",
    "                    except ValueError:\n",
    "                        print(\"Invalid input: Incidents_HIV must be a number.\") # we expect incidents_HIV to be a number\n",
    "\n",
    "                elif feature == 'GDP_per_capita':\n",
    "                    try:\n",
    "                        gdp = int(val) # try to change input to int, throw a value error if this isn't possible\n",
    "                        if gdp > 0 and gdp <= 250000: # check that GDP_per_capita is in range\n",
    "                            row_data['GDP_per_capita'] = gdp\n",
    "                            break\n",
    "                        else:\n",
    "                            print(\"Invalid input: GDP_per_capita must be a value between 0 and 250,000 (right-inclusive).\") # if the input is a number but fails this check, tell the user the required range\n",
    "                    except ValueError:\n",
    "                        print(\"Invalid input: GDP_per_capita must be an integer.\") # we expect GDP_per_capita to be a whole number\n",
    "\n",
    "                elif feature == 'Schooling':\n",
    "                    try:\n",
    "                        school = float(val) # try to change input to float, throw a value error if this isn't possible\n",
    "                        if school >= 0 and school <= 20: # check that schooling is in range\n",
    "                            row_data['Schooling'] = school\n",
    "                            break\n",
    "                        else:\n",
    "                            print(\"Invalid input: Schooling must be a value between 0 and 20 (inclusive).\") # if the input is a number but fails this check, tell the user the required range\n",
    "                    except ValueError:\n",
    "                        print(\"Invalid input: Schooling must be a number.\") # we expect Schooling to be a number\n",
    "\n",
    "                # developing is unique since it needs to be 0 or 1\n",
    "                elif feature == 'Economy_status_Developing':\n",
    "                    if val in [\"0\", \"1\"]: # check if input value is 0 or 1\n",
    "                        row_data[feature] = int(val)\n",
    "                        break\n",
    "                    else:\n",
    "                        print(\"Invalid input: Economy_status_Developing must be 0 or 1. [0 = Developed, 1 = Developing]\") # tell the user the expected selection if input wasn't 0 or 1\n",
    "        \n",
    "        row_data['log_GDP'] = np.log(row_data['GDP_per_capita']) # create a new field with transformed GDP_per_capita\n",
    "\n",
    "        user_df = pd.DataFrame([row_data]) # we turn the observation into a DataFrame\n",
    "\n",
    "        scaler = joblib.load('opti_scaler.pkl') # this loads our optimised scaler, created by our Models notebook\n",
    "        scale_cols = ['Schooling', 'Adult_mortality', 'Under_five_deaths', 'GDP_per_capita', 'Year', 'log_GDP', 'BMI', 'Incidents_HIV']\n",
    "\n",
    "        def feature_eng(df, scaler, scale_cols):\n",
    "            df = df.copy()\n",
    "            df[scale_cols] = scaler.transform(df[scale_cols]) # we transfrom the data using the same scaling that our optimised model used to learn from the training set (StandardScaler)\n",
    "            return df\n",
    "\n",
    "        test = feature_eng(user_df, scaler, scale_cols) # we scale the relevant columns using our scaler\n",
    "\n",
    "        model = joblib.load('opti_model.pkl') # we load our optimised model\n",
    "        print(f'Predicted life-expectancy: {round(model.predict(test).iloc[0],2)}') # and predict the life expectancy using the input values\n",
    "\n",
    "    elif consent == \"N\": # if consent wasn't given we use the limited model\n",
    "        print('Thank you, you have NOT given consent - a minimalist model will be used which may be less accurate and robust.')\n",
    "\n",
    "        model_columns = [ # we initialise a list that contains the features and dimensions that our model expects (including OHE column names)\n",
    "            'const', 'Year', 'Region_Asia', 'Region_Central America and Caribbean', 'Region_European Union',\n",
    "            'Region_Middle East', 'Region_North America', 'Region_Oceania', 'Region_Rest of Europe',\n",
    "            'Region_South America', 'Under_five_deaths', 'Adult_mortality', 'GDP_per_capita',\n",
    "            'Economy_status_Developing'\n",
    "        ]\n",
    "\n",
    "        input_features = [ # these are the limited selection of columns that the user actually needs to input (we then transform this into the list above)\n",
    "            'Region', 'Year', 'Under_five_deaths', 'Adult_mortality','GDP_per_capita', 'Economy_status_Developing'\n",
    "        ]\n",
    "\n",
    "        row_data = {col: 0 for col in model_columns} # create a dictionary to store the features and the inputted values, set to 0 by default\n",
    "        row_data['const'] = 1 # const is always 1\n",
    "        # row_data looks like {'const': 1, 'Year': 0, ... }\n",
    "\n",
    "        print(\"\\nPlease enter the following values:\\n\")\n",
    "\n",
    "        for feature in input_features: # loops through each feature that needs to be input for the model\n",
    "            while True: # repeats the same feature request until a valid input is entered, signified by 'break' statement\n",
    "                val = input(f\"{feature}: \").strip() # for each feature, val variable is temporarily set to the input value and stripped of spaces\n",
    "                \n",
    "                # region requires more validation\n",
    "                if feature == 'Region':\n",
    "                    region_col = f\"Region_{val}\" # OHE region column names are Region_{name}\n",
    "                    if region_col in all_regions: # checks if the input is valid regardless of if it's a column\n",
    "                        if region_col in model_columns: # if yes, we check if it's a column we need\n",
    "                            row_data[region_col] = 1 # if yes, we set that columns value to 1\n",
    "                        break # regardless of if needed or not, we move on to the next feature\n",
    "                    else:\n",
    "                        print(\"Invalid input: Valid regions include 'Asia', 'Central America and Caribbean', 'European Union', 'Middle East', 'North America', 'Oceania', 'Rest of Europe', 'South America' [case-sensitive]\") # if the input isn't valid, provide the expected selection\n",
    "                \n",
    "                # currently year must be a positive number. we can easily set a different range       \n",
    "                elif feature == 'Year':\n",
    "                    try:\n",
    "                        year = int(val) # try to change input to int, throw a value error if this isn't possible\n",
    "                        if year >= 2000 and year <= 2100: # check that year is between 2000 and 2100\n",
    "                            row_data['Year'] = year\n",
    "                            break\n",
    "                        else:\n",
    "                            print(\"Invalid input: Year must be a value between 2000 and 2100 (inclusive).\") # if the input is a number but fails this check, tell the user the required range\n",
    "                    except ValueError:\n",
    "                        print(\"Invalid input: Year must be an integer.\") # we expect year to be a whole number\n",
    "\n",
    "                elif feature == 'Under_five_deaths':\n",
    "                    try:\n",
    "                        ufd = float(val) # try to change input to float, throw a value error if this isn't possible\n",
    "                        if ufd >= 0 and ufd <= 300: # check that under_five_deaths is in range.\n",
    "                            row_data['Under_five_deaths'] = ufd\n",
    "                            break\n",
    "                        else:\n",
    "                            print(\"Invalid input: Under_five_deaths must be a value between 0 and 300 (inclusive).\") # if the input is a number but fails this check, tell the user the required range\n",
    "                    except ValueError:\n",
    "                        print(\"Invalid input: Under_five_deaths must be a number.\") # we expect under_five_deaths to be a number\n",
    "\n",
    "                elif feature == 'Adult_mortality':\n",
    "                    try:\n",
    "                        adu_mort = float(val) # try to change input to float, throw a value error if this isn't possible\n",
    "                        if adu_mort >= 0 and adu_mort <= 800: # check that adult_mortality is in range\n",
    "                            row_data['Adult_mortality'] = adu_mort\n",
    "                            break\n",
    "                        else:\n",
    "                            print(\"Invalid input: Adult_mortality must be a value between 0 and 800 (inclusive).\") # if the input is a number but fails this check, tell the user the required range\n",
    "                    except ValueError:\n",
    "                        print(\"Invalid input: Adult_mortality must be a number.\") # we expect adult_mortality to be a number\n",
    "\n",
    "                elif feature == 'GDP_per_capita':\n",
    "                    try:\n",
    "                        gdp = int(val) # try to change input to int, throw a value error if this isn't possible\n",
    "                        if gdp > 0 and gdp <= 250000: # check that GDP_per_capita is in range\n",
    "                            row_data['GDP_per_capita'] = gdp\n",
    "                            break\n",
    "                        else:\n",
    "                            print(\"Invalid input: GDP_per_capita must be a value between 0 and 250,000 (right-inclusive).\") # if the input is a number but fails this check, tell the user the required range\n",
    "                    except ValueError:\n",
    "                        print(\"Invalid input: GDP_per_capita must be an integer.\") # we expect GDP_per_capita to be a whole number\n",
    "\n",
    "                # developing is unique since it needs to be 0 or 1\n",
    "                elif feature == 'Economy_status_Developing':\n",
    "                    if val in [\"0\", \"1\"]: # check if input value is 0 or 1\n",
    "                        row_data[feature] = int(val)\n",
    "                        break\n",
    "                    else:\n",
    "                        print(\"Invalid input: Economy_status_Developing must be 0 or 1. [0 = Developed, 1 = Developing]\") # tell the user the expected selection if input wasn't 0 or 1\n",
    "\n",
    "        user_df = pd.DataFrame([row_data]) # we turn the observation into a DataFrame\n",
    "\n",
    "        scaler = joblib.load('limited_scaler.pkl') # this loads our limited scaler, created by our Models notebook\n",
    "        scale_cols = [ 'Year', 'Under_five_deaths', 'Adult_mortality', 'GDP_per_capita', 'Economy_status_Developing']\n",
    "\n",
    "        def feature_eng(df, scaler, scale_cols):\n",
    "            df = df.copy()\n",
    "            df[scale_cols] = scaler.transform(df[scale_cols]) # we transfrom the data using the same scaling that our limited model used to learn from the training set (MinMaxScaler)\n",
    "            return df\n",
    "\n",
    "        test = feature_eng(user_df, scaler, scale_cols) # we scale the relevant columns using our scaler\n",
    "\n",
    "        model = joblib.load('limited_model.pkl') # we load our limited model\n",
    "        print(model.predict(test).iloc[0]) # and predict the life expectancy using the input values\n",
    "\n",
    "\n",
    "final_function_to_predict() # function call"
   ]
  },
  {
   "cell_type": "code",
   "execution_count": null,
   "id": "f83bca0d-a8cb-400d-89b6-6a13cf4c7c3e",
   "metadata": {},
   "outputs": [],
   "source": []
  }
 ],
 "metadata": {
  "kernelspec": {
   "display_name": "Python [conda env:base] *",
   "language": "python",
   "name": "conda-base-py"
  },
  "language_info": {
   "codemirror_mode": {
    "name": "ipython",
    "version": 3
   },
   "file_extension": ".py",
   "mimetype": "text/x-python",
   "name": "python",
   "nbconvert_exporter": "python",
   "pygments_lexer": "ipython3",
   "version": "3.12.7"
  }
 },
 "nbformat": 4,
 "nbformat_minor": 5
}
