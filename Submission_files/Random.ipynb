{
 "cells": [
  {
   "cell_type": "code",
   "execution_count": null,
   "id": "cbec5fb6-6ba3-42f1-935e-d17bd59bc515",
   "metadata": {},
   "outputs": [],
   "source": [
    "import numpy as np\n",
    "import seaborn as sns\n",
    "import matplotlib.pyplot as plt\n",
    "import pandas as pd"
   ]
  },
  {
   "cell_type": "code",
   "execution_count": null,
   "id": "2fcc8815-d7f0-4d3f-b361-42f8001c43f6",
   "metadata": {},
   "outputs": [],
   "source": [
    "df = pd.read_csv(\"Life Expectancy Data.csv\")"
   ]
  },
  {
   "cell_type": "code",
   "execution_count": null,
   "id": "45a58305-3c1a-4ec7-857a-719c93df66fe",
   "metadata": {},
   "outputs": [],
   "source": [
    "df.sample(n=1)"
   ]
  },
  {
   "cell_type": "code",
   "execution_count": null,
   "id": "5cc06e6a-4961-4b5a-8551-da6d9006c07f",
   "metadata": {},
   "outputs": [],
   "source": [
    "df.Region.unique()"
   ]
  },
  {
   "cell_type": "code",
   "execution_count": null,
   "id": "761a6797-7197-4a09-af14-f44bf11a2c60",
   "metadata": {},
   "outputs": [],
   "source": []
  }
 ],
 "metadata": {
  "kernelspec": {
   "display_name": "Python [conda env:base] *",
   "language": "python",
   "name": "conda-base-py"
  },
  "language_info": {
   "codemirror_mode": {
    "name": "ipython",
    "version": 3
   },
   "file_extension": ".py",
   "mimetype": "text/x-python",
   "name": "python",
   "nbconvert_exporter": "python",
   "pygments_lexer": "ipython3",
   "version": "3.12.7"
  }
 },
 "nbformat": 4,
 "nbformat_minor": 5
}
